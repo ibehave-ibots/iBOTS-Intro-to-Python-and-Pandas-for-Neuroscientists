{
 "cells": [
  {
   "cell_type": "code",
   "execution_count": null,
   "metadata": {},
   "outputs": [],
   "source": [
    "# %pip install xarray matplotlib scipy pandas"
   ]
  },
  {
   "cell_type": "code",
   "execution_count": null,
   "metadata": {},
   "outputs": [],
   "source": [
    "# import external packages\n",
    "import xarray as xr\n",
    "import pandas as pd\n",
    "import matplotlib.pyplot as plt\n",
    "\n",
    "# Add path with self-created packages and import them\n",
    "import sys\n",
    "sys.path.append('./src')\n",
    "import sciebo"
   ]
  },
  {
   "cell_type": "markdown",
   "metadata": {},
   "source": [
    "# Spike Time Analysis with Pandas and Matplotlib\n",
    "\n",
    "\n",
    "In the experiment reported by [Steinmetz et al, 2019 in Nature](https://www.nature.com/articles/s41586-019-1787-x), mice perform a discrimination task where they move the position of a stimulus using a steering wheel. During the experiment, electrophysiology recordings are made of different brain areas. The recordings are made with a dense array of probes called NeuroPixels.\n",
    "\n",
    "\n",
    "\n",
    "##### Analysis Goals\n",
    "In this notebook we will visualize spiking events, examine their relationship with key experimental variables, and compare activity patterns across distinct brain regions.\n",
    "##### Learning Goals\n",
    "We will once again use the [**Pandas**](https://pandas.pydata.org/) Python library to carry out numerical operations and plot results with the [**matplotlib**](https://matplotlib.org/)  plotting library."
   ]
  },
  {
   "cell_type": "markdown",
   "metadata": {},
   "source": [
    "---"
   ]
  },
  {
   "cell_type": "markdown",
   "metadata": {},
   "source": [
    "### Practice with Pandas: Extracting information from a DataFrame\n",
    "\n",
    "Each spike is characterised by 4 pieces of information:\n",
    "* The identifier for that spike\n",
    "* The trial in which the spike occurred\n",
    "* The cell in which the spike occurred\n",
    "* The time during the trial when the spike occurred\n",
    "\n",
    "\n",
    "| Command                                    | Description                                                                                           |\n",
    "|--------------------------------------------|-------------------------------------------------------------------------------------------------------|\n",
    "| `df[df['column_B'] == 42]`                 | Filter a DataFrame where the values of `column_B` are 42.                                             |\n",
    "| `df['column_A'].nunique()`                 | Count the number of unique values in `column_A` of a DataFrame.                                       |\n",
    "| `df.groupby('column_B')['column_A'].nunique()` | Group a DataFrame according to values of `column_B` and count the number of unique values in `column_A`. |\n",
    "| `df.max()`                                 | Find the maximum value of a DataFrame.                                                                |\n",
    "| `df.idxmax()`                              | Find the index where the maximum value occurs in a DataFrame.                                         |\n",
    "| `df.idxmin()`                              | Find the index where the minimum value occurs in a DataFrame.                                         |\n",
    "| `plt.hist(data_values)`                    | Plot a histogram of `data_values` using Matplotlib.                                                   |\n",
    "\n"
   ]
  },
  {
   "cell_type": "code",
   "execution_count": null,
   "metadata": {},
   "outputs": [],
   "source": [
    "# Download the dataset\n",
    "\n",
    "sciebo.download_from_sciebo('https://uni-bonn.sciebo.de/s/3Uf2gScrvuTPQhB', 'data/steinmetz_2017-01-08_Muller.nc')"
   ]
  },
  {
   "cell_type": "markdown",
   "metadata": {},
   "source": [
    "Create a `dataset` with `xr.load_dataset`"
   ]
  },
  {
   "cell_type": "code",
   "execution_count": null,
   "metadata": {},
   "outputs": [],
   "source": []
  },
  {
   "cell_type": "markdown",
   "metadata": {},
   "source": [
    "Make a DataFrame `df` with spiking data (spike_time, spike_cell, spike_trial)"
   ]
  },
  {
   "cell_type": "code",
   "execution_count": null,
   "metadata": {},
   "outputs": [],
   "source": []
  },
  {
   "cell_type": "markdown",
   "metadata": {},
   "source": [
    "**Exercises**"
   ]
  },
  {
   "cell_type": "markdown",
   "metadata": {},
   "source": [
    "**Example Exercise**\n",
    "\n",
    "How many cells spiked during trial 1?"
   ]
  },
  {
   "cell_type": "code",
   "execution_count": null,
   "metadata": {},
   "outputs": [],
   "source": [
    "df[df['spike_trial'] == 1]['spike_cell'].nunique()"
   ]
  },
  {
   "cell_type": "markdown",
   "metadata": {},
   "source": [
    "How many cells spiked during trial 24?"
   ]
  },
  {
   "cell_type": "code",
   "execution_count": null,
   "metadata": {},
   "outputs": [],
   "source": []
  },
  {
   "cell_type": "markdown",
   "metadata": {},
   "source": [
    "How many cells spiked during the last trial?"
   ]
  },
  {
   "cell_type": "code",
   "execution_count": null,
   "metadata": {},
   "outputs": [],
   "source": []
  },
  {
   "cell_type": "markdown",
   "metadata": {},
   "source": [
    "Make a list of the number of spiking cells of each trial. **Hint** - use `df.groupby('spike_trial')`\n",
    "\n",
    "Name the result `n_spiking_cells`"
   ]
  },
  {
   "cell_type": "code",
   "execution_count": null,
   "metadata": {},
   "outputs": [],
   "source": []
  },
  {
   "cell_type": "markdown",
   "metadata": {},
   "source": [
    "What was the maximum number of spiking cells?"
   ]
  },
  {
   "cell_type": "code",
   "execution_count": null,
   "metadata": {},
   "outputs": [],
   "source": []
  },
  {
   "cell_type": "markdown",
   "metadata": {},
   "source": [
    "Which trial had the most spiking cells?\n",
    "\n",
    "Name this trial `trial_num_with_most_spikes`"
   ]
  },
  {
   "cell_type": "code",
   "execution_count": null,
   "metadata": {},
   "outputs": [],
   "source": []
  },
  {
   "cell_type": "markdown",
   "metadata": {},
   "source": [
    "Use the trial number you found above to index the datafame `n_spiking_cells`. What is the result? "
   ]
  },
  {
   "cell_type": "code",
   "execution_count": null,
   "metadata": {},
   "outputs": [],
   "source": []
  },
  {
   "cell_type": "markdown",
   "metadata": {},
   "source": [
    "Find the trial number and the spike count where the least number of cells spiked"
   ]
  },
  {
   "cell_type": "code",
   "execution_count": null,
   "metadata": {},
   "outputs": [],
   "source": []
  },
  {
   "cell_type": "markdown",
   "metadata": {},
   "source": [
    "Let's visualize the distribution of the number of spiking cells with a matplotlib histogram. "
   ]
  },
  {
   "cell_type": "code",
   "execution_count": null,
   "metadata": {},
   "outputs": [],
   "source": []
  },
  {
   "cell_type": "markdown",
   "metadata": {},
   "source": [
    "Make the same histogram as above but with steps"
   ]
  },
  {
   "cell_type": "code",
   "execution_count": null,
   "metadata": {},
   "outputs": [],
   "source": []
  },
  {
   "cell_type": "markdown",
   "metadata": {},
   "source": [
    "\n",
    "## Visualize the spiking activity using spike times\n",
    "\n",
    "\n",
    "\n",
    "Now that we have the spike timing data, let's visualize them, and some of their properties, using matplotlib:\n",
    "\n",
    "| Command                          | Description                                                        |\n",
    "|----------------------------------|--------------------------------------------------------------------|\n",
    "| `plt.scatter(x, y)`              | Create a scatter plot of `x` vs `y`. `x` and `y` are both 1D arrays. |\n",
    "| `plt.xlabel(\"your_text\")`        | Label the x-axis of the plot with specified text.                  |\n",
    "| `plt.ylabel(\"your_text\")`        | Label the y-axis of the plot with specified text.                  |\n",
    "| `plt.title(\"your_text\")`         | Add a title to the plot with the specified text.                   |\n",
    "\n"
   ]
  },
  {
   "cell_type": "markdown",
   "metadata": {},
   "source": [
    "**Example**\n",
    "\n",
    "Create a scatter plot to visualize spikes with spike time on X-axis and spike_trial on Y-axis for a neuron number 12."
   ]
  },
  {
   "cell_type": "code",
   "execution_count": null,
   "metadata": {},
   "outputs": [],
   "source": [
    "dd = df[df['spike_cell'] == 12]\n",
    "plt.scatter(dd['spike_time'], dd['spike_trial'])"
   ]
  },
  {
   "cell_type": "markdown",
   "metadata": {},
   "source": [
    "Create a scatter plot to visualize spikes with spike time on X-axis and spike_trial on Y-axis for a neuron number 11."
   ]
  },
  {
   "cell_type": "code",
   "execution_count": null,
   "metadata": {},
   "outputs": [],
   "source": []
  },
  {
   "cell_type": "markdown",
   "metadata": {},
   "source": [
    "Instead of a dot, plot with `|`. Use `plt.scatter?` to figure out how"
   ]
  },
  {
   "cell_type": "code",
   "execution_count": null,
   "metadata": {},
   "outputs": [],
   "source": []
  },
  {
   "cell_type": "markdown",
   "metadata": {},
   "source": [
    "By default, matplotlib does not provide axis labels. \n",
    "\n",
    "Remake your plot with axis labels\n"
   ]
  },
  {
   "cell_type": "code",
   "execution_count": null,
   "metadata": {},
   "outputs": [],
   "source": []
  },
  {
   "cell_type": "markdown",
   "metadata": {},
   "source": [
    "Create a scatter plot to visualize spikes with spike time on X-axis and spike_trial on Y-axis for a neuron number 83."
   ]
  },
  {
   "cell_type": "code",
   "execution_count": null,
   "metadata": {},
   "outputs": [],
   "source": []
  },
  {
   "cell_type": "markdown",
   "metadata": {},
   "source": [
    "We can vary the color of the points based of the spike time with the `c` argument of `plt.scatter`\n",
    "\n",
    "Remake the above plot setting the color of the points to the spike time."
   ]
  },
  {
   "cell_type": "code",
   "execution_count": null,
   "metadata": {},
   "outputs": [],
   "source": []
  },
  {
   "cell_type": "markdown",
   "metadata": {},
   "source": [
    "Remake the plot above, giving the plot an appropriate title "
   ]
  },
  {
   "cell_type": "code",
   "execution_count": null,
   "metadata": {},
   "outputs": [],
   "source": []
  },
  {
   "cell_type": "markdown",
   "metadata": {},
   "source": [
    "---"
   ]
  },
  {
   "cell_type": "markdown",
   "metadata": {},
   "source": [
    "## Relating spike timing to event-based variables\n",
    "\n",
    "In this section, we will expand on the previous section and analyse spike time events joinly with other experimental events such as `response_time` or `feedback_time`.\n",
    "\n",
    "| Command                                               | Description                                                                                     |\n",
    "|-------------------------------------------------------|-------------------------------------------------------------------------------------------------|\n",
    "| `pd.merge(df_1, df_2)`                                | Merge `df_1` and `df_2` DataFrames based on common columns.                                     |\n",
    "| `pd.merge(df_1, df_2, left_on='column_on_df_1', right_on='column_on_df_2')`                                | Merge `df_1` and `df_2` DataFrames based on `column_on_df_1` on `df_1` and `column_on_df_2` on `df_2`.                                     |\n",
    "| `df.rename(columns={\"old_column_name\": \"new_column_name\"})` | Rename the \"old_column_name\" column to \"new_column_name\" in the DataFrame.                      |\n",
    "| `df.sort_values(by=\"column_b\")`                       | Sort the DataFrame based on the values in the \"column_b\" column in ascending order.             |\n",
    "| `df['column_a'].factorize()[0]`                       | Encode the \"column_a\" column as an enumerated type, replacing each unique value with an integer. `[0]` returns just the array of integers. |\n"
   ]
  },
  {
   "cell_type": "markdown",
   "metadata": {},
   "source": [
    "Create a DataFrame `experimental_df` containing experimental events `response_time`, `feedback_time`, `gocue` and `active_trials`"
   ]
  },
  {
   "cell_type": "code",
   "execution_count": null,
   "metadata": {},
   "outputs": [],
   "source": [
    "\n",
    "cols = [\"response_time\", \"feedback_time\", \"gocue\", \"active_trials\"]\n",
    "experimental_df = dataset[cols].to_dataframe().reset_index().rename(columns={\"trial\": \"spike_trial\"})\n",
    "experimental_df"
   ]
  },
  {
   "cell_type": "markdown",
   "metadata": {},
   "source": [
    "**Example**\n",
    "\n",
    "Merge the DataFrames `df` and `experimental_df` into one DataFrame"
   ]
  },
  {
   "cell_type": "code",
   "execution_count": null,
   "metadata": {},
   "outputs": [],
   "source": [
    "spike_time_df = pd.merge(df, experimental_df)\n",
    "spike_time_df"
   ]
  },
  {
   "cell_type": "markdown",
   "metadata": {},
   "source": [
    "Create a merged dataframe of `df` and `experimental_df` but only where `active_trials` is `True`\n",
    "\n",
    "Name the result `spike_time_df`"
   ]
  },
  {
   "cell_type": "code",
   "execution_count": null,
   "metadata": {},
   "outputs": [],
   "source": []
  },
  {
   "cell_type": "markdown",
   "metadata": {},
   "source": [
    "Make a scatter plot showing spike time events for a cell number 48 from `spike_time_df`"
   ]
  },
  {
   "cell_type": "code",
   "execution_count": null,
   "metadata": {},
   "outputs": [],
   "source": []
  },
  {
   "cell_type": "markdown",
   "metadata": {},
   "source": [
    "Overplot the above plot with another scatter plot of the response times against spike trials"
   ]
  },
  {
   "cell_type": "code",
   "execution_count": null,
   "metadata": {},
   "outputs": [],
   "source": []
  },
  {
   "cell_type": "markdown",
   "metadata": {},
   "source": [
    "We can better assess the relation between the response event and neuron spiking by sorting the cells by response time.\n",
    "\n",
    "First sort the spike data for cell 3 by response time. Call the result `spike_cell_48_df`"
   ]
  },
  {
   "cell_type": "code",
   "execution_count": null,
   "metadata": {},
   "outputs": [],
   "source": []
  },
  {
   "cell_type": "markdown",
   "metadata": {},
   "source": [
    "Now add a new column called `spike_trial_sorted` to `spike_cell_48_df` that is the `spike_trial` data reset to 0. **Hint** use `df.factorize()`"
   ]
  },
  {
   "cell_type": "code",
   "execution_count": null,
   "metadata": {},
   "outputs": [],
   "source": []
  },
  {
   "cell_type": "markdown",
   "metadata": {},
   "source": [
    "Make a scatter plot showing the spike time against spike_trial_sorted in black and \n",
    "\n",
    "overplot with a scatter plot with response times on the x axis and the `spike_trial_sorted` values on the y axis in crimson. This plot is known as a rasterplot."
   ]
  },
  {
   "cell_type": "code",
   "execution_count": null,
   "metadata": {},
   "outputs": [],
   "source": []
  },
  {
   "cell_type": "markdown",
   "metadata": {},
   "source": [
    "Cell 48 is clearly has a strong relationship to the subject's response. Can you think of why this may be? What brain region is cell 48 in?\n",
    "\n",
    "**Hint** - use `dataset[\"brain_area\"].to_dataframe().reset_index()`"
   ]
  },
  {
   "cell_type": "code",
   "execution_count": null,
   "metadata": {},
   "outputs": [],
   "source": []
  },
  {
   "cell_type": "markdown",
   "metadata": {},
   "source": [
    "Make another rasterplot but for cell 187"
   ]
  },
  {
   "cell_type": "code",
   "execution_count": null,
   "metadata": {},
   "outputs": [],
   "source": []
  },
  {
   "cell_type": "markdown",
   "metadata": {},
   "source": [
    "What do you notice about the above rasterplot? Do you think that anything special happens around 0.5s into each trial? **Hint** Look at the Attributes of the `dataset`"
   ]
  },
  {
   "cell_type": "code",
   "execution_count": null,
   "metadata": {},
   "outputs": [],
   "source": [
    "dataset"
   ]
  },
  {
   "cell_type": "markdown",
   "metadata": {},
   "source": [
    "## Spiking activity in different brain areas\n",
    "\n",
    "The dataset includes which brain areas each spiking cell is in. In this section we will use pandas and matplotlib to find the most active brain areas"
   ]
  },
  {
   "cell_type": "markdown",
   "metadata": {},
   "source": [
    "| Command                                               | Description                                                                                     |\n",
    "|-------------------------------------------------------|-------------------------------------------------------------------------------------------------|\n",
    "| `pd.merge(df_1, df_2)`                                | Merge `df_1` and `df_2` DataFrames based on common columns.                                     |\n",
    "| `pd.merge(df_1, df_2, left_on='column_on_df_1', right_on='column_on_df_2')`                                | Merge `df_1` and `df_2` DataFrames based on `column_on_df_1` on `df_1` and `column_on_df_2` on `df_2`.                                     |\n",
    "| `df.sort_values(by=\"column_b\")`                       | Sort the DataFrame based on the values in the \"column_b\" column in ascending order.             |\n",
    "| `df['column_a'].factorize()[0]`                       | Encode the \"column_a\" column as an enumerated type, replacing each unique value with an integer. `[0]` returns just the array of integers. |\n",
    "|`df['col_A'].value_counts()`|counts and lists how many times each unique category appears in the `col_A`|\n"
   ]
  },
  {
   "cell_type": "markdown",
   "metadata": {},
   "source": [
    "Create a dataframe that contains the brain area and call it `brain_region_df`.\n"
   ]
  },
  {
   "cell_type": "code",
   "execution_count": null,
   "metadata": {},
   "outputs": [],
   "source": []
  },
  {
   "cell_type": "markdown",
   "metadata": {},
   "source": [
    "Create a DataFrame with information about spikes and brain areas by merging `brain_region_df` and `df` (use left_on and right_on parameters)"
   ]
  },
  {
   "cell_type": "code",
   "execution_count": null,
   "metadata": {},
   "outputs": [],
   "source": []
  },
  {
   "cell_type": "markdown",
   "metadata": {},
   "source": [
    "What brain areas were recorded from this specific mouse?"
   ]
  },
  {
   "cell_type": "code",
   "execution_count": null,
   "metadata": {},
   "outputs": [],
   "source": []
  },
  {
   "cell_type": "markdown",
   "metadata": {},
   "source": [
    "How many spikes occur in  each brain area?"
   ]
  },
  {
   "cell_type": "code",
   "execution_count": null,
   "metadata": {},
   "outputs": [],
   "source": []
  },
  {
   "cell_type": "markdown",
   "metadata": {},
   "source": [
    "We will take the spikes for trial 187, sort by 'brain_area', and create another column named 'ordered_index' by factorizing spike cell"
   ]
  },
  {
   "cell_type": "code",
   "execution_count": null,
   "metadata": {},
   "outputs": [],
   "source": []
  },
  {
   "cell_type": "markdown",
   "metadata": {},
   "source": [
    "Let's make a rasterplot for one brain area showing the `spike_time` on the x axis and `ordered_index` on the y axis"
   ]
  },
  {
   "cell_type": "code",
   "execution_count": null,
   "metadata": {},
   "outputs": [],
   "source": []
  },
  {
   "cell_type": "markdown",
   "metadata": {},
   "source": [
    "Which brain areas are in `dd`?"
   ]
  },
  {
   "cell_type": "code",
   "execution_count": null,
   "metadata": {},
   "outputs": [],
   "source": []
  },
  {
   "cell_type": "markdown",
   "metadata": {},
   "source": [
    "For each brain area make a rasterplot on the same figure "
   ]
  },
  {
   "cell_type": "code",
   "execution_count": null,
   "metadata": {},
   "outputs": [],
   "source": []
  },
  {
   "cell_type": "markdown",
   "metadata": {},
   "source": [
    "Make the same plot in seaborn"
   ]
  },
  {
   "cell_type": "code",
   "execution_count": null,
   "metadata": {},
   "outputs": [],
   "source": []
  }
 ],
 "metadata": {
  "kernelspec": {
   "display_name": "ibots2",
   "language": "python",
   "name": "python3"
  },
  "language_info": {
   "codemirror_mode": {
    "name": "ipython",
    "version": 3
   },
   "file_extension": ".py",
   "mimetype": "text/x-python",
   "name": "python",
   "nbconvert_exporter": "python",
   "pygments_lexer": "ipython3",
   "version": "3.11.5"
  }
 },
 "nbformat": 4,
 "nbformat_minor": 2
}
