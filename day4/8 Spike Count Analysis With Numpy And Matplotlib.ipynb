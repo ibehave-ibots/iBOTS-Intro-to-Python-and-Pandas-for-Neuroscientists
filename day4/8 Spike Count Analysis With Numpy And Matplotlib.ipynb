{
 "cells": [
  {
   "cell_type": "code",
   "execution_count": null,
   "id": "cae7a8a3",
   "metadata": {},
   "outputs": [],
   "source": [
    "# %pip install --upgrade --user xarray matplotlib numpy"
   ]
  },
  {
   "cell_type": "code",
   "execution_count": null,
   "id": "a1bc3d88",
   "metadata": {},
   "outputs": [],
   "source": [
    "# Ignore future warnings\n",
    "import warnings\n",
    "warnings.simplefilter(action='ignore', category=FutureWarning)\n",
    "\n",
    "# import external packages\n",
    "import xarray as xr\n",
    "import numpy as np\n",
    "import seaborn as sns\n",
    "import matplotlib.pyplot as plt\n",
    "\n",
    "# Add path with self-created packages and import them\n",
    "import sys\n",
    "sys.path.append('./src')\n",
    "import sciebo"
   ]
  },
  {
   "cell_type": "markdown",
   "id": "7a2d07aa",
   "metadata": {},
   "source": [
    "# Spike Count Analysis\n",
    "\n",
    "Spiking actvitiy of neurons is the man focus of the [Steinmetz et al, 2019 paper](https://www.nature.com/articles/s41586-019-1787-x). With the rich dataset that they collected during their experiments many analyses are possible that can link neural activity to behavioral or experimental variables.\n",
    "\n",
    "This notebook has a different flavor compared to the other notebooks we worked with before. It tries to resemble a scenario where we are given the data, and we need to explore it and learn more about it, and answer some questions. Questions are more generic and there are less hints.\n",
    "\n",
    "We will be using Numpy and Matplotlib to filter, transform, and visualize the spike counts and explore their link to other variables.\n",
    "\n",
    "**NumPy**\n",
    "\n",
    "| Code                                             | Description                                                                                                                     |\n",
    "|--------------------------------------------------|---------------------------------------------------------------------------------------------------------------------------------|\n",
    "| `array = dataset[\"key\"].to_numpy()`              | Converts a dataset column to a NumPy array.                                                                                     |\n",
    "| `array.shape`                                    | Retrieves the shape (dimensions) of the NumPy array.                                                                             |\n",
    "| `np.unique(array)`                               | Finds unique elements in the array.                                                                                              |\n",
    "| `filtered_array = array1[array2 == 'value']`     | Filters `array1`, selecting elements at positions where `array2` is equal to the specified value.                                |\n",
    "| `np.sum(array)`                                  | Sums all the elements in the array.                                                                                              |\n",
    "| `masked_array = array1[:, array2 == 'value', :]` | Applies a boolean mask from `array2` to `array1`, only across the 2nd dimension. |\n",
    "| `np.mean(array, axis=0)`                         | Computes the mean across the 1st dimension (rows) for each element of the 2nd dimension.                                   |\n",
    "| `np.mean(array, axis=1)`                         | Computes the mean across the 2nd dimension (columns) for each element of the 1st dimension.                                 |\n",
    "| `np.mean(array, axis=(0, 1))`                    | Computes the mean of the array across both the 1st and 2nd dimensions.                                                           |\n",
    "| `np.corrcoef(data_array)`                    | Computes the correlation coefficient matrix of an array.                                            |\n",
    "\n",
    "**Matplotlib**\n",
    "\n",
    "| Code                                         | Description                                                                                         |\n",
    "|----------------------------------------------|-----------------------------------------------------------------------------------------------------|\n",
    "| `plt.figure(figsize=(width_in_inches, height_in_inches), dpi=dots_per_inch)` | Creates a new figure with specified size and resolution.                                            |\n",
    "| `plt.imshow(data_array, aspect='auto', cmap='color_map_name')` | Displays data as an image with specified aspect ratio and colormap.                                 |\n",
    "| `plt.xlabel('label_text')`                   | Sets the label for the x-axis.                                                                      |\n",
    "| `plt.ylabel('label_text')`                   | Sets the label for the y-axis.                                                                      |\n",
    "| `plt.colorbar(label='label_text')`           | Adds a color bar to the plot with a label.                                                          |\n",
    "| `plt.hist(data_array, bins=number_of_bins, alpha=transparency, label='label_text')` | Plots a histogram with specified bins, transparency, and label for the dataset.                     |\n",
    "| `plt.legend()`                               | Displays a legend on the plot.                                                                      |\n",
    "| `plt.title('title_text')`                    | Sets the title of the plot.                                                                         |"
   ]
  },
  {
   "cell_type": "markdown",
   "id": "a3e530f5",
   "metadata": {},
   "source": [
    "---"
   ]
  },
  {
   "cell_type": "markdown",
   "id": "42391e3d",
   "metadata": {},
   "source": [
    "### Download the dataset"
   ]
  },
  {
   "cell_type": "code",
   "execution_count": null,
   "id": "70e9a7e5",
   "metadata": {},
   "outputs": [],
   "source": [
    "sciebo.download_from_sciebo('https://uni-bonn.sciebo.de/s/YT3iaH9Po0LJMxR', f'data/steinmetz_2017-12-05_Lederberg.nc')"
   ]
  },
  {
   "cell_type": "markdown",
   "id": "ebd8b8ac",
   "metadata": {},
   "source": [
    "### Load the dataset using Xarray"
   ]
  },
  {
   "cell_type": "code",
   "execution_count": null,
   "id": "ae63de9e",
   "metadata": {},
   "outputs": [],
   "source": [
    "dset = ..."
   ]
  },
  {
   "cell_type": "markdown",
   "id": "a95af3b9",
   "metadata": {},
   "source": [
    "---"
   ]
  },
  {
   "cell_type": "markdown",
   "id": "366e8ce4",
   "metadata": {},
   "source": [
    "## Region-specific Spike Count Analysis\n",
    "\n",
    "Neurons in this dataset are also label with their brain area. Let's take advantage of this additional information and explore the spiking activity for different brain areas and compare them with each other."
   ]
  },
  {
   "cell_type": "markdown",
   "id": "605dcc6e",
   "metadata": {},
   "source": [
    "**Example** Load the spike_count data from the Xarray dataset, and check the shape of it (how many elements are in each dimension?)"
   ]
  },
  {
   "cell_type": "code",
   "execution_count": null,
   "id": "5d0c63b4",
   "metadata": {},
   "outputs": [],
   "source": [
    "spike_counts = dset[\"spike_count\"].to_numpy()\n",
    "spike_counts.shape"
   ]
  },
  {
   "cell_type": "markdown",
   "id": "3f6d502b",
   "metadata": {},
   "source": [
    "Load the brain_groups data from the Xarray dataset, and check its shape."
   ]
  },
  {
   "cell_type": "code",
   "execution_count": null,
   "id": "0d150cca",
   "metadata": {},
   "outputs": [],
   "source": []
  },
  {
   "cell_type": "markdown",
   "id": "056fcd02",
   "metadata": {},
   "source": [
    "Which brain areas (let's use the `\"brain_groups\"` variable for this) were recorded in this dataset?"
   ]
  },
  {
   "cell_type": "code",
   "execution_count": null,
   "id": "ae8ea31c",
   "metadata": {},
   "outputs": [],
   "source": []
  },
  {
   "cell_type": "markdown",
   "id": "176a7b3b",
   "metadata": {},
   "source": [
    "What is the total spike counts for the neurons recorded from Visual Cortex?"
   ]
  },
  {
   "cell_type": "code",
   "execution_count": null,
   "id": "5279b45a",
   "metadata": {},
   "outputs": [],
   "source": []
  },
  {
   "cell_type": "markdown",
   "id": "399f4a2b",
   "metadata": {},
   "source": [
    "Compute the mean spike counts across all cell in the Visual Cortext. This essentially gives us the population activity for every trial across time. Let's plot it using `plt.imshow()`."
   ]
  },
  {
   "cell_type": "code",
   "execution_count": null,
   "id": "7f6230bc",
   "metadata": {},
   "outputs": [],
   "source": []
  },
  {
   "cell_type": "markdown",
   "id": "6751ecd0",
   "metadata": {},
   "source": [
    "If, in addition to the cells, we also take the average across time, we are left with a single value per trial representing the per-trial population activity averaged over time. Compare the population activity average over time between all neurons and Visual Cortex neurons. Is the Visual Cortex more active or less active compared to all areas together?"
   ]
  },
  {
   "cell_type": "code",
   "execution_count": null,
   "id": "e495dec6",
   "metadata": {},
   "outputs": [],
   "source": []
  },
  {
   "cell_type": "markdown",
   "id": "353da4b6",
   "metadata": {},
   "source": [
    "If Visual Cortex has a higher or lower activity compared to all areas together, then there must be some other areas that is compensating for that. Which area is that?"
   ]
  },
  {
   "cell_type": "code",
   "execution_count": null,
   "id": "705a91d1",
   "metadata": {},
   "outputs": [],
   "source": []
  },
  {
   "cell_type": "markdown",
   "id": "a6f5f503",
   "metadata": {},
   "source": [
    "Compute correlation of average spike count between all the neurons in Visual Cortex, and visualize it using `plt.imshow()`."
   ]
  },
  {
   "cell_type": "code",
   "execution_count": null,
   "id": "12e288c8",
   "metadata": {},
   "outputs": [],
   "source": []
  },
  {
   "cell_type": "markdown",
   "id": "81ebfa96",
   "metadata": {},
   "source": [
    "---"
   ]
  },
  {
   "cell_type": "markdown",
   "id": "fd7426a8",
   "metadata": {},
   "source": [
    "## Spike Count Analysis with Trial-level Categorical Variables\n",
    "\n",
    "As we have seen before, in addition to brain area, we also have access to several categorical variables such as response type and stimulus contrast level. Let's see whether the pattern of neural activity would change for different values of these categorical variables. "
   ]
  },
  {
   "cell_type": "markdown",
   "id": "62508cf2",
   "metadata": {},
   "source": [
    "Let's start by turning the spike counts into firing rates. **Hint:** we need the size of the time bin for this."
   ]
  },
  {
   "cell_type": "code",
   "execution_count": null,
   "id": "549462c0",
   "metadata": {},
   "outputs": [],
   "source": [
    "firing_rate = ..."
   ]
  },
  {
   "cell_type": "markdown",
   "id": "fe2e942d",
   "metadata": {},
   "source": [
    "Load the `\"response_type\"` variable as a numpy array. What is its shape? Which dimension of the firing rate data does it match to in terms of number of elements? "
   ]
  },
  {
   "cell_type": "code",
   "execution_count": null,
   "id": "0113bfa8",
   "metadata": {},
   "outputs": [],
   "source": []
  },
  {
   "cell_type": "markdown",
   "id": "0542bdae",
   "metadata": {},
   "source": [
    "**Example:** Plot the mean firing rate (averaged across neurons and trials) over time, taking all neurons (no area specification)."
   ]
  },
  {
   "cell_type": "code",
   "execution_count": null,
   "id": "98bd7020",
   "metadata": {},
   "outputs": [],
   "source": [
    "plt.plot(firing_rate.mean(axis=(0, 1)))"
   ]
  },
  {
   "cell_type": "markdown",
   "id": "01ddda08",
   "metadata": {},
   "source": [
    "Plot the same data in the previous exercise, but only considering the trials where the response was -1."
   ]
  },
  {
   "cell_type": "code",
   "execution_count": null,
   "id": "9a5851a4",
   "metadata": {},
   "outputs": [],
   "source": []
  },
  {
   "cell_type": "markdown",
   "id": "ebb7d691",
   "metadata": {},
   "source": [
    "Add to the previous plot the other two response types: one line for each response type. Did the population activity of Visual Cortex change noticable between the response types?"
   ]
  },
  {
   "cell_type": "code",
   "execution_count": null,
   "id": "0d330bfb",
   "metadata": {},
   "outputs": [],
   "source": []
  },
  {
   "cell_type": "markdown",
   "id": "d919a7b0",
   "metadata": {},
   "source": [
    "Plot the same thing as in the previous exercise, but only for neurons in the Visual Cortex."
   ]
  },
  {
   "cell_type": "code",
   "execution_count": null,
   "id": "e8491a5d",
   "metadata": {},
   "outputs": [],
   "source": []
  },
  {
   "cell_type": "markdown",
   "id": "715a1b58",
   "metadata": {},
   "source": [
    "Using subplots, create four plots in a single figure, each plotting showing the the analysis in the previous exercise for a different brain area. Specify the brain area in the title."
   ]
  },
  {
   "cell_type": "code",
   "execution_count": null,
   "id": "fd67654a",
   "metadata": {},
   "outputs": [],
   "source": []
  }
 ],
 "metadata": {
  "kernelspec": {
   "display_name": "base",
   "language": "python",
   "name": "python3"
  },
  "language_info": {
   "codemirror_mode": {
    "name": "ipython",
    "version": 3
   },
   "file_extension": ".py",
   "mimetype": "text/x-python",
   "name": "python",
   "nbconvert_exporter": "python",
   "pygments_lexer": "ipython3",
   "version": "3.11.5"
  }
 },
 "nbformat": 4,
 "nbformat_minor": 5
}
