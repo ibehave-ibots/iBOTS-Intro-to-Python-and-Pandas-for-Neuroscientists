{
 "cells": [
  {
   "cell_type": "code",
   "execution_count": null,
   "id": "13cae123",
   "metadata": {},
   "outputs": [],
   "source": [
    "# %pip install --upgrade --user xarray matplotlib numpy scipy pandas"
   ]
  },
  {
   "cell_type": "code",
   "execution_count": 1,
   "id": "4f7da9b3",
   "metadata": {},
   "outputs": [],
   "source": [
    "# Ignore future warnings\n",
    "import warnings\n",
    "warnings.simplefilter(action='ignore', category=FutureWarning)\n",
    "\n",
    "# import external packages\n",
    "import xarray as xr\n",
    "import matplotlib.pyplot as plt \n",
    "import numpy as np\n",
    "from scipy.fft import fft, fftfreq\n",
    "from scipy.signal import square, sawtooth, chirp\n",
    "\n",
    "# Add path with self-created packages and import them\n",
    "import sys\n",
    "sys.path.append('./src')\n",
    "import sciebo"
   ]
  },
  {
   "cell_type": "markdown",
   "id": "173daa7f",
   "metadata": {},
   "source": [
    "# Frequency Analysis with Numpy and Matplotlib\n",
    "\n",
    "### Overview\n",
    "\n",
    "Frequency analysis is key to understanding the patterns in time series data, like the kind we get from EEG or LFP readings. It's about measuring the signal's strength and how often certain patterns show up. The initial step in this process is to visualize the data in the frequency domain. This way, we can see which frequencies stand out and get a better understanding of distinct activities within the signal.\n",
    "\n",
    "#### Analysis Goals\n",
    "\n",
    "In this notebook, we will focus on practical methods for extracting the frequency information from various types of signals. We will explore composite signals created by combining multiple waveforms, making it more challenging to identify their constituent frequencies. Finally, we will demonstrate how to transform time-domain signals into the frequency domain using Python.\n",
    "\n",
    "#### Learning Goals\n",
    "\n",
    "We'll use Python's [**Numpy**](https://numpy.org/) and [**Scipy**](https://docs.scipy.org/) packages to generate signals and also transform them into the frequency domain, using `scipy.fft`, and visualize the results with [**Matplotlib**]()."
   ]
  },
  {
   "cell_type": "markdown",
   "id": "70f5eb35",
   "metadata": {},
   "source": [
    "---"
   ]
  },
  {
   "cell_type": "markdown",
   "id": "59c1e35f",
   "metadata": {},
   "source": [
    "## Generating Periodic Signals\n",
    "\n",
    "Periodic waveforms play a vital role in neuroscience as models for rhythmic stimuli and neural oscillations. By generating such waveforms we can, for instance, simulate neural activity that exhibit periodic behavior in response to visual stimuli, such as flashing lights or gradual intensity changes, and can also use these signals to verify frequency analysis techniques.\n",
    "\n",
    "This section provides a hands-on introduction to creating and visualizing periodic waveforms using the `scipy.signal` module. Through a series of exercises, we'll explore the characteristics of square and sawtooth waves at various frequencies. We will also explore generating chirp using the `chirp` method (a chirp is a signal in which the frequency increases ('up-chirp') or decreases ('down-chirp') with time). We will use the same `chirp` method to create cosine waves too!\n",
    "\n",
    "In the following exercises we will Numpy and Scipy to generate the periodic signals, and Matplotlib to visualize them.\n",
    "\n",
    "| Code                             | Description                                                                                   |\n",
    "|----------------------------------|-----------------------------------------------------------------------------------------------|\n",
    "| `np.pi`                          | The mathematical constant π, approximately 3.14159.                                           |\n",
    "| `np.linspace(start, stop, n)`    | Generates an array of `n` evenly spaced values from `start` to `stop`.                        |\n",
    "| `square(2 * np.pi * f * t)`      | Generates a square wave with frequency `f` over time array `t`.                               |\n",
    "| `sawtooth(2 * np.pi * f * t)`    | Produces a sawtooth wave with frequency `f` over time array `t`.                              |\n",
    "| `plt.plot(x, y)`                 | Plots the data in `y` against the corresponding values in `x`.                                |\n"
   ]
  },
  {
   "cell_type": "markdown",
   "id": "23d90169",
   "metadata": {},
   "source": [
    "**Example** Create a 1 Hz square wave sampled 100 times for 1 second."
   ]
  },
  {
   "cell_type": "code",
   "execution_count": 4,
   "id": "4ad8b7a8",
   "metadata": {},
   "outputs": [],
   "source": [
    "f = 1 # Hz\n",
    "t = np.linspace(0, 1, 100)\n",
    "w = square(2 * np.pi * f * t)\n",
    "plt.plot(t, w)"
   ]
  },
  {
   "cell_type": "markdown",
   "id": "5b89679b",
   "metadata": {},
   "source": [
    "This is a square wave of 1 Hz frequency. A frequency of `n` Hz means that the pattern you see above repeats `n` times in a second. Let's see that happen in the following exercises."
   ]
  },
  {
   "cell_type": "markdown",
   "id": "a53a3b6c",
   "metadata": {},
   "source": [
    "Create a 2 Hz square wave sampled 100 times for 1 second. How many repetitions of the pattern do you see here?"
   ]
  },
  {
   "cell_type": "code",
   "execution_count": 5,
   "id": "17d2f82b",
   "metadata": {},
   "outputs": [],
   "source": []
  },
  {
   "cell_type": "markdown",
   "id": "7b8ddd31",
   "metadata": {},
   "source": [
    "Create a 10 Hz square wave sampled 100 times for 1 second."
   ]
  },
  {
   "cell_type": "code",
   "execution_count": 6,
   "id": "484dcf6b",
   "metadata": {},
   "outputs": [],
   "source": []
  },
  {
   "cell_type": "markdown",
   "id": "aecb7492",
   "metadata": {},
   "source": [
    "Using the `sawtooth` function, create a 5 Hz sawtooth signal sampled 100 times for 1 second."
   ]
  },
  {
   "cell_type": "code",
   "execution_count": 7,
   "id": "9796a6a2",
   "metadata": {},
   "outputs": [],
   "source": []
  },
  {
   "cell_type": "markdown",
   "id": "ca653eeb",
   "metadata": {},
   "source": [
    "Numpy arrays are built for mathematical operations. For example, we can re-generate the signal we created before with double the magnitude simply by multiplying the signal `w` by $2$:"
   ]
  },
  {
   "cell_type": "code",
   "execution_count": 8,
   "id": "84d46071",
   "metadata": {},
   "outputs": [],
   "source": [
    "f = 5 # Hz\n",
    "t = np.linspace(0, 1, 100)\n",
    "w = sawtooth(2 * np.pi * f * t)\n",
    "w_double_magnitude = 2 * w\n",
    "plt.plot(t, w)"
   ]
  },
  {
   "cell_type": "markdown",
   "id": "fff09faa",
   "metadata": {},
   "source": [
    "Numpy package also provides many useful functions that we can use to transform our data. For instance `np.exp()` or `np.log()`.\n",
    "\n",
    "Write the code for $z = \\exp(t) \\cdot w$, where $w$ is the sawtooth waveform and $t$ is time. Plot the resulting $z$ over time."
   ]
  },
  {
   "cell_type": "code",
   "execution_count": 9,
   "id": "27a964d6",
   "metadata": {},
   "outputs": [],
   "source": []
  },
  {
   "cell_type": "markdown",
   "id": "ec173975",
   "metadata": {},
   "source": [
    "### Chirp Signal\n",
    "\n",
    "A chirp is a signal in which the frequency increases or decreases over time. In the context of the `scipy.signal.chirp` function, the signal starts at frequency `f0` and linearly changes to frequency `f1` by time `t1`. The rate of this frequency change can follow different methods; when the 'linear' method is used, the frequency changes at a constant rate.\n",
    "\n",
    "Here is a summary table for the examples of chirp signals:\n",
    "\n",
    "| Example               | Start Frequency (`f0`) | End Frequency (`f1`) | Time (`t1`) | Frequency Change        | Description                       |\n",
    "|-----------------------|------------------------|----------------------|-------------|-------------------------|-----------------------------------|\n",
    "| Constant Frequency    | 5 Hz                   | 5 Hz                 | 10 s        | None (Constant)         | A sine wave with a constant frequency. |\n",
    "| Increasing Frequency  | 5 Hz                   | 10 Hz                | 10 s        | Linear Increase         | A sine wave that linearly increases in frequency over time. |\n",
    "| Decreasing Frequency  | 10 Hz                  | 5 Hz                 | 10 s        | Linear Decrease         | A sine wave that linearly decreases in frequency over time. |"
   ]
  },
  {
   "cell_type": "markdown",
   "id": "8d8cabc9",
   "metadata": {},
   "source": [
    "**Example** Generate constant frequency (1Hz) signal with `chirp`"
   ]
  },
  {
   "cell_type": "code",
   "execution_count": 16,
   "id": "293a6b68",
   "metadata": {},
   "outputs": [],
   "source": [
    "t = np.linspace(0, 1, 1000)\n",
    "w = chirp(t, f0=1, f1=1, t1=1)\n",
    "plt.plot(t, w)"
   ]
  },
  {
   "cell_type": "markdown",
   "id": "87232e57",
   "metadata": {},
   "source": [
    "Generate a chirp signal that starts at a frequency of 1 Hz and increases to 10 Hz over a duration of 1 second."
   ]
  },
  {
   "cell_type": "code",
   "execution_count": 17,
   "id": "8e2b9e42",
   "metadata": {},
   "outputs": [],
   "source": []
  },
  {
   "cell_type": "markdown",
   "id": "ff42aeda",
   "metadata": {},
   "source": [
    "Generate the same chirp signal as in the last exercise but with a decreasing frequency."
   ]
  },
  {
   "cell_type": "code",
   "execution_count": 18,
   "id": "cab0693d",
   "metadata": {},
   "outputs": [],
   "source": []
  },
  {
   "cell_type": "markdown",
   "id": "6396f0c9",
   "metadata": {},
   "source": [
    "What other options are available in the `chirp` function to control the change of frequency over time? Let's explore some these methods by visualizing them in the same plot."
   ]
  },
  {
   "cell_type": "code",
   "execution_count": 19,
   "id": "02c4e3a3",
   "metadata": {},
   "outputs": [],
   "source": []
  },
  {
   "cell_type": "markdown",
   "id": "cacda596",
   "metadata": {},
   "source": [
    "Let's label each line plot so it's clear which line comes from which method. We can do this by:\n",
    "1. setting the `label` argument of the `plt.plot()` function.\n",
    "2. calling `plt.legend()` at the end to make the legend appear in the plot."
   ]
  },
  {
   "cell_type": "code",
   "execution_count": 20,
   "id": "26c96535",
   "metadata": {},
   "outputs": [],
   "source": []
  },
  {
   "cell_type": "markdown",
   "id": "d19992ce",
   "metadata": {},
   "source": [
    "As a final step let's make the figure wider so we can see the difference between the lines a bit more clearly. \n",
    "\n",
    "This is a fugure-level property that we want to change. We can specify figure-level properties using the function `plt.figure()` which will be placed in the very beginning of the visualization code.\n",
    "\n",
    "Here, we want to change the figure size which we can do by setting the `figsize` argument: `plt.figure(figsize=(15, 3))`. The first value specifies the width, and the second value specified the height. Let's try it!"
   ]
  },
  {
   "cell_type": "code",
   "execution_count": 21,
   "id": "b6506ed6",
   "metadata": {},
   "outputs": [],
   "source": []
  },
  {
   "cell_type": "markdown",
   "id": "61419f15",
   "metadata": {},
   "source": [
    "---"
   ]
  },
  {
   "cell_type": "markdown",
   "id": "0f0c2173",
   "metadata": {},
   "source": [
    "## Create Composite Signals\n",
    "\n",
    "In this section, we will learn about combining multiple periodic signals together, creating more complex signals.\n",
    "\n",
    "We will make use of matplotlib and how powerful it is in customizing plots\n",
    "\n",
    "\n",
    "| Code | Description |\n",
    "| ---- | ----------- |\n",
    "| `np.linspace(start, stop, n_points)` | Create `n_points` equally spaced values between `start` and `stop`. |\n",
    "| `plt.plot(x, y)` | Plot `x` on the x-axis and `y` on the y-axis. |\n",
    "| `plt.xlabel('X-axis')` | Set the x-axis label as 'X-axis'. |\n",
    "| `plt.ylabel('Y-axis')` | Set the y-axis label as 'Y-axis'. |\n",
    "| `np.random.randn(n_points)` | Generate `n_points` random values drawn from a standard normal distribution. |"
   ]
  },
  {
   "cell_type": "markdown",
   "id": "d257f1d9",
   "metadata": {},
   "source": [
    "**Example** Create a composite wave from two square waves"
   ]
  },
  {
   "cell_type": "code",
   "execution_count": 22,
   "id": "16e4ccb5",
   "metadata": {},
   "outputs": [],
   "source": [
    "f1 = 1\n",
    "f2 = 3\n",
    "t = np.linspace(0, 1, 1000)\n",
    "w1 = square(2 * np.pi * f1 * t)\n",
    "w2 = square(2 * np.pi * f2 * t)\n",
    "plt.plot(t, w1 + w2)"
   ]
  },
  {
   "cell_type": "markdown",
   "id": "6b9a8897",
   "metadata": {},
   "source": [
    "Create composite wave made of a 2-Hz sawtooth and a 1-Hz square wave."
   ]
  },
  {
   "cell_type": "code",
   "execution_count": 23,
   "id": "55163f5c",
   "metadata": {},
   "outputs": [],
   "source": []
  },
  {
   "cell_type": "markdown",
   "id": "31a4a87f",
   "metadata": {},
   "source": [
    "**Example** Create a composite signal made of two chirps and add axis labels and title with legend"
   ]
  },
  {
   "cell_type": "code",
   "execution_count": 24,
   "id": "f0b8c8ac",
   "metadata": {},
   "outputs": [],
   "source": [
    "t = np.linspace(0, 1, 1000)\n",
    "\n",
    "w1 = chirp(t, f0=20, f1=1, t1=1)\n",
    "w2 = chirp(t, f0=1, f1=50, t1=1)\n",
    "\n",
    "plt.plot(t, w1+w2)\n",
    "\n",
    "plt.xlabel('Time [s]')\n",
    "plt.ylabel('Value [some unit]')\n",
    "plt.title('Composite signal of two chirps')"
   ]
  },
  {
   "cell_type": "markdown",
   "id": "154cab93",
   "metadata": {},
   "source": [
    "Let's learn a bit more about matplotlib and optimize this figure further.\n",
    "\n",
    "We already specified some \"axes-level\" properties in the last exercise. In the following exercises, Let's change both \"figure-level\" properties as well the the arguments in the plotting function to improve our plot."
   ]
  },
  {
   "cell_type": "markdown",
   "id": "086e6d74",
   "metadata": {},
   "source": [
    "Let's start by making the figure a bit wider as we did before."
   ]
  },
  {
   "cell_type": "code",
   "execution_count": 26,
   "id": "18857ad1",
   "metadata": {},
   "outputs": [],
   "source": []
  },
  {
   "cell_type": "markdown",
   "id": "21017dce",
   "metadata": {},
   "source": [
    "Make the line a bit thicker by setting the `linewidth` argument in the `plt.plot()` function."
   ]
  },
  {
   "cell_type": "code",
   "execution_count": 27,
   "id": "1d3c0f87",
   "metadata": {},
   "outputs": [],
   "source": []
  },
  {
   "cell_type": "markdown",
   "id": "2a4d40f8",
   "metadata": {},
   "source": [
    "Change the color to black by setting the `color` argument."
   ]
  },
  {
   "cell_type": "code",
   "execution_count": 28,
   "id": "919cf78e",
   "metadata": {},
   "outputs": [],
   "source": []
  },
  {
   "cell_type": "markdown",
   "id": "b08692de",
   "metadata": {},
   "source": [
    "Make the resolution higher by setting the \"figure-level\" property `dpi`. Let's try a dpi of 200 for instance."
   ]
  },
  {
   "cell_type": "code",
   "execution_count": 29,
   "id": "83110443",
   "metadata": {},
   "outputs": [],
   "source": []
  },
  {
   "cell_type": "markdown",
   "id": "d26e863f",
   "metadata": {},
   "source": [
    "You can play around with the `figsize` and `dpi` to adjust the fontsize in the figure. For instance, a higher `dpi` combined with a lower `figsize` results in bigger fontsize. "
   ]
  },
  {
   "cell_type": "code",
   "execution_count": 30,
   "id": "d3274d53",
   "metadata": {},
   "outputs": [],
   "source": []
  },
  {
   "cell_type": "markdown",
   "id": "3ddcbb37",
   "metadata": {},
   "source": [
    "As a final step let's save the figure using the `plt.savefig()` method. \n",
    "\n",
    "**Hint:** to make sure all the elements of the plot are included in the saved figure set `bbox_inches=\"tight\"` in the `plt.savefig()` function."
   ]
  },
  {
   "cell_type": "code",
   "execution_count": 31,
   "id": "94ba8c01",
   "metadata": {},
   "outputs": [],
   "source": []
  },
  {
   "cell_type": "markdown",
   "id": "61d502d7",
   "metadata": {},
   "source": [
    "---"
   ]
  },
  {
   "cell_type": "markdown",
   "id": "6bb4ec35",
   "metadata": {},
   "source": [
    "## Frequency Analysis"
   ]
  },
  {
   "cell_type": "markdown",
   "id": "19021464",
   "metadata": {},
   "source": [
    "In this section, we will learn how to identify frequencies of oscillation of a composite signal\n",
    "\n",
    "Most of the signals we observe or measure is composed of more than one frequency. Frequency analysis is an important tool in breaking down a composite signal into its constituent frequencies. We can transform our data in the time domain into the frequency domain in four steps:\n",
    "1. Perform a Fourier Transform on the signal \n",
    "2. Calculate the frequencies corresponding to the FFT result \n",
    "3. Since the FFT result is symmetric, filter out the negative frequencies. \n",
    "4. Calculate the magnitude of the FFT result for positive frequencies and scale the result by a factor of 2.0/len(alpha). \n",
    "\n",
    "<br>\n",
    "\n",
    "\n",
    "| Code                                    | Description                                            |\n",
    "| --------------------------------------- | ------------------------------------------------------ |\n",
    "| `fft(some_signal)`                     | Step 1: Compute the Fast Fourier Transform of `some_signal`. This transforms the signal from the time domain to the frequency domain. |\n",
    "| `fftfreq(len(some_signal), d=sampling_time)` | Step 2: Calculate the frequencies corresponding to the FFT result. `len(some_signal)` is the number of data points, and `sampling_time` is the time interval between samples. |\n",
    "| `fft_freqs[fft_freqs > 0]`             | Step 3: Select only the positive frequencies from the `fft_freqs` array. This step filters out the negative frequencies. |\n",
    "| `2.0/len(some_signal) * np.abs(fft_result[fft_freqs > 0])` | Step 4: Calculate the magnitude of the FFT result for positive frequencies. The factor `2.0/len(some_signal)` scales the result appropriately. |\n",
    "| `plt.plot(x, y)` | Plot y values against x values. |\n",
    "| `plt.subplot(nrows, ncols, nindex)` | `plt.subplot(211)` tells Python to create a grid of subplots with 2 rows and 1 column and to use the first subplot (top plot) for the current plotting commands. If you were to add another plotting command with plt.subplot(212), it would plot in the second subplot (bottom plot). |\n"
   ]
  },
  {
   "cell_type": "markdown",
   "id": "96700b7c",
   "metadata": {},
   "source": [
    "**Example** Create a chirp signal with a constant frequency of 10 Hz, sampled 250 times between 0.01 s and 2.5 s. Let's compute the amplitude spectrum and also let's use subplots to plot both the time-domain as well as the frequency domain data."
   ]
  },
  {
   "cell_type": "code",
   "execution_count": 32,
   "id": "9602016d",
   "metadata": {},
   "outputs": [],
   "source": [
    "t = np.linspace(0.01, 2.5, 250)\n",
    "w = chirp(t, f0=10, f1=10, t1=2.5)\n",
    "\n",
    "\n",
    "## You just have to use the four lines for computing the amplitude spectrum\n",
    "fft_result = fft(w) # transform to frequency domain\n",
    "fft_freqs = fftfreq(len(w), d=(t[1] - t[0])) # get all frequencies that can be measured with the data we have\n",
    "positive_freqs = fft_freqs[fft_freqs > 0] # take only positive frequencies\n",
    "positive_fft_result = (2.0/len(w)) * np.abs(fft_result[fft_freqs > 0]) # take absolute of the amplitude and scale it by a factor of 2.0/len(signal)\n",
    "## Ends here\n",
    "\n",
    "plt.subplot(2, 1, 1)\n",
    "plt.plot(t, w)\n",
    "plt.xlabel('Time [s]')\n",
    "plt.ylabel('Amplitude')\n",
    "\n",
    "plt.subplot(2, 1, 2)\n",
    "plt.plot(positive_freqs, positive_fft_result)\n",
    "plt.xlabel('Frequency [Hz]')\n",
    "plt.ylabel('Amplitude')\n",
    "\n",
    "plt.tight_layout()"
   ]
  },
  {
   "cell_type": "markdown",
   "id": "7f03599f",
   "metadata": {},
   "source": [
    "We generated a signal of 10 Hz frequency and we see a peak at 10 Hz in the frequency domain!"
   ]
  },
  {
   "cell_type": "markdown",
   "id": "cd624c1c",
   "metadata": {},
   "source": [
    "Generate a chirp signal that begins with frequency of 10 Hz and increases to 20 Hz over a period of 2.5 seconds and compute amplitude spectrum. Plot the signal and the amplitude spectrum."
   ]
  },
  {
   "cell_type": "code",
   "execution_count": 33,
   "id": "eedc1442",
   "metadata": {},
   "outputs": [],
   "source": []
  },
  {
   "cell_type": "markdown",
   "id": "8b018347",
   "metadata": {},
   "source": [
    " Since this is a chirp signal, we would expect to see a distribution of energy across a range of frequencies from 10 Hz up to 20 Hz. The plot would likely show a peak that starts at 10 Hz and extends or spreads toward 20 Hz"
   ]
  },
  {
   "cell_type": "markdown",
   "id": "56c064ba",
   "metadata": {},
   "source": [
    "Generates a chirp signal that begins with frequency of 10 Hz and increases to 20 Hz over a period of 2.5 seconds and compute amplitude spectrum. Before you run the code, predict how the figure would look like"
   ]
  },
  {
   "cell_type": "code",
   "execution_count": 34,
   "id": "86ce3b4b",
   "metadata": {},
   "outputs": [],
   "source": []
  },
  {
   "cell_type": "markdown",
   "id": "dd5afa89",
   "metadata": {},
   "source": [
    "Create two constant frequency signals w1 and w2 at 10 Hz and 25 Hz respectively, which are then summed together to form a composite signal w. What can you interpret from this?\n",
    "\n",
    "Use `t = np.linspace(0.01, 2.5, 250)`"
   ]
  },
  {
   "cell_type": "code",
   "execution_count": 35,
   "id": "8ac39d6f",
   "metadata": {},
   "outputs": [],
   "source": []
  },
  {
   "cell_type": "markdown",
   "id": "907ee734",
   "metadata": {},
   "source": [
    "You see two peaks here: One at 10 Hz representing w1 and one at 25 Hz representing w2. Even though w is a composite signal, frequency space can still separate them out."
   ]
  },
  {
   "cell_type": "markdown",
   "id": "aff21f6f",
   "metadata": {},
   "source": [
    "---"
   ]
  },
  {
   "cell_type": "markdown",
   "id": "1b019d6e",
   "metadata": {},
   "source": [
    "## Power Spectrum Of Real Data"
   ]
  },
  {
   "cell_type": "markdown",
   "id": "d1ca49b6",
   "metadata": {},
   "source": [
    "Now that we are familiar with the theory of power spectrum and frequency analysis, we shall start working with real data. In this section, we will\n",
    "- Plot and compare power spectrum of trial-LFP data for different brain areas\n",
    "- Plot and compare power spectrum of trial-avereaged LFP data of different brain areas \n",
    "\n",
    "We will Using Pandas columns with custom functions\n",
    "- Pandas groupby\n",
    "\n",
    "| Code                                          | Description                                                                |\n",
    "| --------------------------------------------- | -------------------------------------------------------------------------- |\n",
    "| `dset = xr.load_dataset('data/steinmetz_20117-12-06_Lederberg.nc')` | Load the dataset from the file 'steinmetz_20117-12-06_Lederberg.nc' using xarray (assuming \"xr\" is the xarray module). |\n",
    "| `dset['column'].to_dataframe().reset_index()` | Extract the 'column' data from the xarray dataset, convert it to a Pandas DataFrame, and reset the index. |\n",
    "| `df[(df['col1'] == val1) & (df['col2'] == val2)]` | Filter rows from the DataFrame 'df' where 'col1' values equal 'val1' and 'col2' values equal 'val2'. |\n",
    "| `df['col1'].values` | Extract the values from 'col1' in the DataFrame 'df' without indices, returning them as a NumPy array. |\n",
    "| `plt.plot(x, y)` | Plot values in the 'y' array against the corresponding 'x' values. |"
   ]
  },
  {
   "cell_type": "markdown",
   "id": "76d71aca",
   "metadata": {},
   "source": [
    "#### Download the data"
   ]
  },
  {
   "cell_type": "code",
   "execution_count": 37,
   "id": "01e220ec",
   "metadata": {},
   "outputs": [],
   "source": [
    "sciebo.download_from_sciebo('https://uni-bonn.sciebo.de/s/bOiGXODN8Cbax34', 'data/steinmetz_2017-12-06_Lederberg.nc')"
   ]
  },
  {
   "cell_type": "markdown",
   "id": "683ae717",
   "metadata": {},
   "source": [
    "Load the data file using Xarray"
   ]
  },
  {
   "cell_type": "code",
   "execution_count": 38,
   "id": "a8be06fb",
   "metadata": {},
   "outputs": [],
   "source": []
  },
  {
   "cell_type": "markdown",
   "id": "45d9445a",
   "metadata": {},
   "source": [
    "Create a dataframe from the `\"lfp\"` variable and reset index"
   ]
  },
  {
   "cell_type": "code",
   "execution_count": 39,
   "id": "0531ddea",
   "metadata": {},
   "outputs": [],
   "source": []
  },
  {
   "cell_type": "markdown",
   "id": "cf951190",
   "metadata": {},
   "source": [
    "**Example** Create power spectrum of LFP measurements from trail 1 of VISam brain area.\n",
    "\n",
    "We will use `compute_power_spectrum(time, signal)` functionn and pass it the time and lfp values as inputs to create power spectrum in a single line of code, and avoid copying the same lines in every cell."
   ]
  },
  {
   "cell_type": "code",
   "execution_count": null,
   "id": "cf8405ff",
   "metadata": {},
   "outputs": [],
   "source": [
    "def compute_power_spectrum(t, signal_values):\n",
    "    \n",
    "    # Perform the Fast Fourier Transform (FFT) on the signal values\n",
    "    fft_result = fft(signal_values)\n",
    "    \n",
    "    # Calculate the sample spacing, which is the time difference between consecutive samples\n",
    "    sample_spacing = t[1] - t[0]\n",
    "\n",
    "    # Compute the frequencies for each FFT result component\n",
    "    # 'd' parameter represents the sample spacing\n",
    "    fft_freqs = fftfreq(len(signal_values), d=sample_spacing)\n",
    "    \n",
    "    # Create a boolean mask to extract only the positive frequencies\n",
    "    positive_mask = fft_freqs > 0\n",
    "\n",
    "    # Use the mask to obtain the positive frequency components\n",
    "    positive_freqs = fft_freqs[positive_mask]\n",
    "\n",
    "    # Calculate the normalization factor to convert FFT output to actual power values\n",
    "    normalization_factor = 2.0 / len(signal_values)\n",
    "\n",
    "    # Normalize the positive frequency components of the FFT result to get the power spectrum\n",
    "    positive_fft_result = normalization_factor * np.abs(fft_result[positive_mask])\n",
    "    \n",
    "    # Return the positive frequencies and their corresponding normalized power values\n",
    "    return positive_freqs, positive_fft_result\n"
   ]
  },
  {
   "cell_type": "code",
   "execution_count": 40,
   "id": "e1372ed0",
   "metadata": {},
   "outputs": [],
   "source": [
    "df = lfp[(lfp['brain_area_lfp'] == 'VISam') & (lfp['trial'] == 1)]\n",
    "freq, power = compute_power_spectrum(df['time'].values, df['lfp'].values)\n",
    "plt.plot(freq, power)"
   ]
  },
  {
   "cell_type": "markdown",
   "id": "b69ab619",
   "metadata": {},
   "source": [
    "Create power spectrum of LFP measurements from trail 5 of VISam brain area. How does this compare with the previous figure?"
   ]
  },
  {
   "cell_type": "code",
   "execution_count": 41,
   "id": "f0098efc",
   "metadata": {},
   "outputs": [],
   "source": []
  },
  {
   "cell_type": "markdown",
   "id": "4ca659b4",
   "metadata": {},
   "source": [
    "Create power spectrum of LFP measurements from trail 1 of ACA brain area."
   ]
  },
  {
   "cell_type": "code",
   "execution_count": 42,
   "id": "ee212faa",
   "metadata": {},
   "outputs": [],
   "source": []
  },
  {
   "cell_type": "markdown",
   "id": "89be845b",
   "metadata": {},
   "source": [
    "**Example** Compute power spectrum of mean LFP in VISam by grouping lfp by the columns \"brain_area_lfp\" and \"time,\" calculating the mean of the \"lfp\" values within each group"
   ]
  },
  {
   "cell_type": "code",
   "execution_count": 46,
   "id": "5badf996",
   "metadata": {},
   "outputs": [],
   "source": [
    "grouped = lfp.groupby(by=['brain_area_lfp', 'time'])['lfp'].mean().reset_index()\n",
    "df = grouped[grouped['brain_area_lfp'] == 'VISam']\n",
    "freq, power = compute_power_spectrum(df['time'].values, df['lfp'].values)\n",
    "plt.plot(freq, power)"
   ]
  },
  {
   "cell_type": "markdown",
   "id": "2541c85e",
   "metadata": {},
   "source": [
    "Let's do the same analysis for two other areas: `\"ZI\"` and `\"ACA\"`"
   ]
  },
  {
   "cell_type": "code",
   "execution_count": 45,
   "id": "6224e9f7",
   "metadata": {},
   "outputs": [],
   "source": []
  }
 ],
 "metadata": {
  "kernelspec": {
   "display_name": "Python 3",
   "language": "python",
   "name": "python3"
  },
  "language_info": {
   "codemirror_mode": {
    "name": "ipython",
    "version": 3
   },
   "file_extension": ".py",
   "mimetype": "text/x-python",
   "name": "python",
   "nbconvert_exporter": "python",
   "pygments_lexer": "ipython3",
   "version": "3.11.5"
  }
 },
 "nbformat": 4,
 "nbformat_minor": 5
}
