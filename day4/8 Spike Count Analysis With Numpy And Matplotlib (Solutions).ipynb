{
 "cells": [
  {
   "cell_type": "code",
   "execution_count": null,
   "metadata": {},
   "outputs": [],
   "source": [
    "# %pip install --upgrade --user xarray matplotlib numpy"
   ]
  },
  {
   "cell_type": "code",
   "execution_count": null,
   "metadata": {},
   "outputs": [],
   "source": [
    "# Ignore future warnings\n",
    "import warnings\n",
    "warnings.simplefilter(action='ignore', category=FutureWarning)\n",
    "\n",
    "# import external packages\n",
    "import xarray as xr\n",
    "import numpy as np\n",
    "import seaborn as sns\n",
    "import matplotlib.pyplot as plt\n",
    "\n",
    "# Add path with self-created packages and import them\n",
    "import sys\n",
    "sys.path.append('./src')\n",
    "import sciebo"
   ]
  },
  {
   "cell_type": "markdown",
   "metadata": {},
   "source": [
    "# Spike Count Analysis\n",
    "\n",
    "Spiking actvitiy of neurons is the man focus of the [Steinmetz et al, 2019 paper](https://www.nature.com/articles/s41586-019-1787-x). With the rich dataset that they collected during their experiments many analyses are possible that can link neural activity to behavioral or experimental variables.\n",
    "\n",
    "This notebook has a different flavor compared to the other notebooks we worked with before. It tries to resemble a scenario where we are given the data, and we need to explore it and learn more about it, and answer some questions. Questions are more generic and there are less hints.\n",
    "\n",
    "We will be using Numpy and Matplotlib to filter, transform, and visualize the spike counts and explore their link to other variables.\n",
    "\n",
    "**NumPy**\n",
    "\n",
    "| Code                                             | Description                                                                                                                     |\n",
    "|--------------------------------------------------|---------------------------------------------------------------------------------------------------------------------------------|\n",
    "| `array = dataset[\"key\"].to_numpy()`              | Converts a dataset column to a NumPy array.                                                                                     |\n",
    "| `array.shape`                                    | Retrieves the shape (dimensions) of the NumPy array.                                                                             |\n",
    "| `np.unique(array)`                               | Finds unique elements in the array.                                                                                              |\n",
    "| `filtered_array = array1[array2 == 'value']`     | Filters `array1`, selecting elements at positions where `array2` is equal to the specified value.                                |\n",
    "| `np.sum(array)`                                  | Sums all the elements in the array.                                                                                              |\n",
    "| `masked_array = array1[:, array2 == 'value', :]` | Applies a boolean mask from `array2` to `array1`, only across the 2nd dimension. |\n",
    "| `np.mean(array, axis=0)`                         | Computes the mean across the 1st dimension (rows) for each element of the 2nd dimension.                                   |\n",
    "| `np.mean(array, axis=1)`                         | Computes the mean across the 2nd dimension (columns) for each element of the 1st dimension.                                 |\n",
    "| `np.mean(array, axis=(0, 1))`                    | Computes the mean of the array across both the 1st and 2nd dimensions.                                                           |\n",
    "| `np.corrcoef(data_array)`                    | Computes the correlation coefficient matrix of an array.                                            |\n",
    "\n",
    "**Matplotlib**\n",
    "\n",
    "| Code                                         | Description                                                                                         |\n",
    "|----------------------------------------------|-----------------------------------------------------------------------------------------------------|\n",
    "| `plt.figure(figsize=(width_in_inches, height_in_inches), dpi=dots_per_inch)` | Creates a new figure with specified size and resolution.                                            |\n",
    "| `plt.imshow(data_array, aspect='auto', cmap='color_map_name')` | Displays data as an image with specified aspect ratio and colormap.                                 |\n",
    "| `plt.xlabel('label_text')`                   | Sets the label for the x-axis.                                                                      |\n",
    "| `plt.ylabel('label_text')`                   | Sets the label for the y-axis.                                                                      |\n",
    "| `plt.colorbar(label='label_text')`           | Adds a color bar to the plot with a label.                                                          |\n",
    "| `plt.hist(data_array, bins=number_of_bins, alpha=transparency, label='label_text')` | Plots a histogram with specified bins, transparency, and label for the dataset.                     |\n",
    "| `plt.legend()`                               | Displays a legend on the plot.                                                                      |\n",
    "| `plt.title('title_text')`                    | Sets the title of the plot.                                                                         |"
   ]
  },
  {
   "cell_type": "markdown",
   "metadata": {},
   "source": [
    "---"
   ]
  },
  {
   "cell_type": "markdown",
   "metadata": {},
   "source": [
    "### Download the dataset"
   ]
  },
  {
   "cell_type": "code",
   "execution_count": null,
   "metadata": {},
   "outputs": [],
   "source": [
    "sciebo.download_from_sciebo('https://uni-bonn.sciebo.de/s/YT3iaH9Po0LJMxR', f'data/steinmetz_2017-12-05_Lederberg.nc')"
   ]
  },
  {
   "cell_type": "markdown",
   "metadata": {},
   "source": [
    "### Load the dataset using Xarray"
   ]
  },
  {
   "cell_type": "code",
   "execution_count": null,
   "metadata": {},
   "outputs": [],
   "source": [
    "dset = xr.load_dataset(f\"./data/steinmetz_2017-12-05_Lederberg.nc\")\n",
    "dset"
   ]
  },
  {
   "cell_type": "markdown",
   "metadata": {},
   "source": [
    "---"
   ]
  },
  {
   "cell_type": "markdown",
   "metadata": {},
   "source": [
    "## Region-specific Spike Count Analysis\n",
    "\n",
    "Neurons in this dataset are also label with their brain area. Let's take advantage of this additional information and explore the spiking activity for different brain areas and compare them with each other."
   ]
  },
  {
   "cell_type": "markdown",
   "metadata": {},
   "source": [
    "**Example** Load the spike_count data from the Xarray dataset, and check the shape of it (how many elements are in each dimension?)"
   ]
  },
  {
   "cell_type": "code",
   "execution_count": null,
   "metadata": {},
   "outputs": [],
   "source": [
    "spike_counts = dset[\"spike_count\"].to_numpy()\n",
    "spike_counts.shape"
   ]
  },
  {
   "cell_type": "markdown",
   "metadata": {},
   "source": [
    "Load the brain_groups data from the Xarray dataset, and check its shape."
   ]
  },
  {
   "cell_type": "code",
   "execution_count": null,
   "metadata": {},
   "outputs": [],
   "source": [
    "brain_area = dset[\"brain_groups\"].to_numpy()\n",
    "brain_area.shape"
   ]
  },
  {
   "cell_type": "markdown",
   "metadata": {},
   "source": [
    "Which brain areas (let's use the `\"brain_groups\"` variable for this) were recorded in this dataset?"
   ]
  },
  {
   "cell_type": "code",
   "execution_count": null,
   "metadata": {},
   "outputs": [],
   "source": [
    "np.unique(brain_area)"
   ]
  },
  {
   "cell_type": "markdown",
   "metadata": {},
   "source": [
    "What is the total spike counts for the neurons recorded from Visual Cortex?"
   ]
  },
  {
   "cell_type": "code",
   "execution_count": null,
   "metadata": {},
   "outputs": [],
   "source": [
    "region_mask = (brain_area == 'visual cortex')\n",
    "total_spike_count_region = np.sum(spike_counts[region_mask])\n",
    "total_spike_count_region"
   ]
  },
  {
   "cell_type": "markdown",
   "metadata": {},
   "source": [
    "Compute the mean spike counts across all cell in the Visual Cortext. This essentially gives us the population activity for every trial across time. Let's plot it using `plt.imshow()`."
   ]
  },
  {
   "cell_type": "code",
   "execution_count": null,
   "metadata": {},
   "outputs": [],
   "source": [
    "region_mask = (brain_area == 'visual cortex')\n",
    "region_spike_counts = spike_counts[region_mask, :, :]\n",
    "population_activity = region_spike_counts.mean(axis=0)\n",
    "\n",
    "plt.figure(figsize=(4, 3), dpi=150)\n",
    "plt.imshow(population_activity, aspect='auto', cmap='viridis')\n",
    "plt.xlabel('Time')\n",
    "plt.ylabel('Trials')\n",
    "plt.colorbar(label=\"Population Activity\")"
   ]
  },
  {
   "cell_type": "markdown",
   "metadata": {},
   "source": [
    "If, in addition to the cells, we also take the average across time, we are left with a single value per trial representing the per-trial population activity averaged over time. Compare the population activity average over time between all neurons and Visual Cortex neurons. Is the Visual Cortex more active or less active compared to all areas together?"
   ]
  },
  {
   "cell_type": "code",
   "execution_count": null,
   "metadata": {},
   "outputs": [],
   "source": [
    "region_mask = (brain_area == 'visual cortex')\n",
    "visual_cortex_population_activity = spike_counts[region_mask].mean(axis=(0, 2))\n",
    "all_areas_population_activity = spike_counts.mean(axis=(0, 2))\n",
    "\n",
    "plt.hist(visual_cortex_population_activity, bins=30, alpha=0.5, label='Visual Cortex')\n",
    "plt.hist(all_areas_population_activity, bins=30, alpha=0.5, label='All Areas')\n",
    "plt.xlabel(\"Avg Ppoulation Activity\")\n",
    "plt.xlabel(\"Counts\")\n",
    "plt.legend()\n",
    "plt.title('Comparative Histogram of Mean Spike Counts')"
   ]
  },
  {
   "cell_type": "markdown",
   "metadata": {},
   "source": [
    "If Visual Cortex has a higher or lower activity compared to all areas together, then there must be some other areas that is compensating for that. Which area is that?"
   ]
  },
  {
   "cell_type": "code",
   "execution_count": null,
   "metadata": {},
   "outputs": [],
   "source": [
    "region_mask = (brain_area == 'thalamus')\n",
    "visual_cortex_population_activity = spike_counts[region_mask].mean(axis=(0, 2))\n",
    "all_areas_population_activity = spike_counts.mean(axis=(0, 2))\n",
    "\n",
    "plt.hist(visual_cortex_population_activity, bins=30, alpha=0.5, label='Thalamus')\n",
    "plt.hist(all_areas_population_activity, bins=30, alpha=0.5, label='All Areas')\n",
    "plt.xlabel(\"Avg Ppoulation Activity\")\n",
    "plt.xlabel(\"Counts\")\n",
    "plt.legend()\n",
    "plt.title('Comparative Histogram of Mean Spike Counts')"
   ]
  },
  {
   "cell_type": "markdown",
   "metadata": {},
   "source": [
    "Compute correlation of average spike count between all the neurons in Visual Cortex, and visualize it using `plt.imshow()`."
   ]
  },
  {
   "cell_type": "code",
   "execution_count": null,
   "metadata": {},
   "outputs": [],
   "source": [
    "region_mask = (brain_area == 'thalamus')\n",
    "correlation_matrix = np.corrcoef(spike_counts[region_mask].mean(axis=2))\n",
    "plt.imshow(correlation_matrix)\n",
    "plt.colorbar()"
   ]
  },
  {
   "cell_type": "markdown",
   "metadata": {},
   "source": [
    "---"
   ]
  },
  {
   "cell_type": "markdown",
   "metadata": {},
   "source": [
    "## Spike Count Analysis with Trial-level Categorical Variables\n",
    "\n",
    "As we have seen before, in addition to brain area, we also have access to several categorical variables such as response type and stimulus contrast level. Let's see whether the pattern of neural activity would change for different values of these categorical variables. "
   ]
  },
  {
   "cell_type": "markdown",
   "metadata": {},
   "source": [
    "Let's start by turning the spike counts into firing rates. **Hint:** we need the size of the time bin for this."
   ]
  },
  {
   "cell_type": "code",
   "execution_count": null,
   "metadata": {},
   "outputs": [],
   "source": [
    "dt = .01\n",
    "firing_rate = spike_counts / dt"
   ]
  },
  {
   "cell_type": "markdown",
   "metadata": {},
   "source": [
    "Load the `\"response_type\"` variable as a numpy array. What is its shape? Which dimension of the firing rate data does it match to in terms of number of elements? "
   ]
  },
  {
   "cell_type": "code",
   "execution_count": null,
   "metadata": {},
   "outputs": [],
   "source": [
    "response_type = dset[\"response_type\"].to_numpy()\n",
    "response_type.shape, firing_rate.shape"
   ]
  },
  {
   "cell_type": "markdown",
   "metadata": {},
   "source": [
    "**Example:** Plot the mean firing rate (averaged across neurons and trials) over time, taking all neurons (no area specification)."
   ]
  },
  {
   "cell_type": "code",
   "execution_count": null,
   "metadata": {},
   "outputs": [],
   "source": [
    "plt.plot(firing_rate.mean(axis=(0, 1)))"
   ]
  },
  {
   "cell_type": "markdown",
   "metadata": {},
   "source": [
    "Plot the same data in the previous exercise, but only considering the trials where the response was -1."
   ]
  },
  {
   "cell_type": "code",
   "execution_count": null,
   "metadata": {},
   "outputs": [],
   "source": [
    "plt.plot(firing_rate[:, response_type==-1, :].mean(axis=(0, 1)))"
   ]
  },
  {
   "cell_type": "markdown",
   "metadata": {},
   "source": [
    "Add to the previous plot the other two response types: one line for each response type. Did the population activity of Visual Cortex change noticable between the response types?"
   ]
  },
  {
   "cell_type": "code",
   "execution_count": null,
   "metadata": {},
   "outputs": [],
   "source": [
    "plt.plot(firing_rate[:, response_type==-1, :].mean(axis=(0, 1)))\n",
    "plt.plot(firing_rate[:, response_type==0, :].mean(axis=(0, 1)))\n",
    "plt.plot(firing_rate[:, response_type==1, :].mean(axis=(0, 1)))"
   ]
  },
  {
   "cell_type": "markdown",
   "metadata": {},
   "source": [
    "Plot the same thing as in the previous exercise, but only for neurons in the Visual Cortex."
   ]
  },
  {
   "cell_type": "code",
   "execution_count": null,
   "metadata": {},
   "outputs": [],
   "source": [
    "region_mask = (brain_area == \"visual cortex\")\n",
    "plt.plot(firing_rate[region_mask][:, response_type==-1, :].mean(axis=(0, 1)))\n",
    "plt.plot(firing_rate[region_mask][:, response_type==0, :].mean(axis=(0, 1)))\n",
    "plt.plot(firing_rate[region_mask][:, response_type==1, :].mean(axis=(0, 1)))"
   ]
  },
  {
   "cell_type": "markdown",
   "metadata": {},
   "source": [
    "Using subplots, create four plots in a single figure, each plotting showing the the analysis in the previous exercise for a different brain area. Specify the brain area in the title."
   ]
  },
  {
   "cell_type": "code",
   "execution_count": null,
   "metadata": {},
   "outputs": [],
   "source": [
    "plt.figure(figsize=(15, 3))\n",
    "\n",
    "plt.subplot(1, 4, 1)\n",
    "region_mask = (brain_area == \"visual cortex\")\n",
    "plt.plot(firing_rate[region_mask][:, response_type==-1, :].mean(axis=(0, 1)))\n",
    "plt.plot(firing_rate[region_mask][:, response_type==0, :].mean(axis=(0, 1)))\n",
    "plt.plot(firing_rate[region_mask][:, response_type==1, :].mean(axis=(0, 1)))\n",
    "plt.title(\"visual cortex\")\n",
    "\n",
    "plt.subplot(1, 4, 2)\n",
    "region_mask = (brain_area == \"thalamus\")\n",
    "plt.plot(firing_rate[region_mask][:, response_type==-1, :].mean(axis=(0, 1)))\n",
    "plt.plot(firing_rate[region_mask][:, response_type==0, :].mean(axis=(0, 1)))\n",
    "plt.plot(firing_rate[region_mask][:, response_type==1, :].mean(axis=(0, 1)))\n",
    "plt.title(\"thalamus\")\n",
    "\n",
    "plt.subplot(1, 4, 3)\n",
    "region_mask = (brain_area == \"hippocampus\")\n",
    "plt.plot(firing_rate[region_mask][:, response_type==-1, :].mean(axis=(0, 1)))\n",
    "plt.plot(firing_rate[region_mask][:, response_type==0, :].mean(axis=(0, 1)))\n",
    "plt.plot(firing_rate[region_mask][:, response_type==1, :].mean(axis=(0, 1)))\n",
    "plt.title(\"hippocampus\")\n",
    "\n",
    "plt.subplot(1, 4, 4)\n",
    "region_mask = (brain_area == 'non-visual cortex')\n",
    "plt.plot(firing_rate[region_mask][:, response_type==-1, :].mean(axis=(0, 1)))\n",
    "plt.plot(firing_rate[region_mask][:, response_type==0, :].mean(axis=(0, 1)))\n",
    "plt.plot(firing_rate[region_mask][:, response_type==1, :].mean(axis=(0, 1)))\n",
    "plt.title('non-visual cortex')"
   ]
  }
 ],
 "metadata": {
  "kernelspec": {
   "display_name": "base",
   "language": "python",
   "name": "python3"
  },
  "language_info": {
   "codemirror_mode": {
    "name": "ipython",
    "version": 3
   },
   "file_extension": ".py",
   "mimetype": "text/x-python",
   "name": "python",
   "nbconvert_exporter": "python",
   "pygments_lexer": "ipython3",
   "version": "3.11.5"
  }
 },
 "nbformat": 4,
 "nbformat_minor": 2
}
