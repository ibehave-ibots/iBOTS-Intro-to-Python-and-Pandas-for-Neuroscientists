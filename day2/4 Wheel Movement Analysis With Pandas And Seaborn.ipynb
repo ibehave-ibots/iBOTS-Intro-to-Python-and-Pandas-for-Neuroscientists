{
 "cells": [
  {
   "cell_type": "code",
   "execution_count": null,
   "id": "ffe4a484",
   "metadata": {},
   "outputs": [],
   "source": [
    "#  %pip install --upgrade xarray numpy matplotlib pandas seaborn"
   ]
  },
  {
   "cell_type": "code",
   "execution_count": null,
   "id": "f3f9882b",
   "metadata": {},
   "outputs": [],
   "source": [
    "# Ignore future warnings\n",
    "import warnings\n",
    "warnings.simplefilter(action='ignore', category=FutureWarning)\n",
    "\n",
    "# import external packages\n",
    "import xarray as xr\n",
    "import seaborn as sns\n",
    "import matplotlib.pyplot as plt\n",
    "from matplotlib.colors import LogNorm\n",
    "\n",
    "# Add path with self-created packages and import them\n",
    "import sys\n",
    "sys.path.append('./src')\n",
    "import sciebo"
   ]
  },
  {
   "cell_type": "markdown",
   "id": "94c6bd63-85a5-4fbf-82d7-b045c1f69cde",
   "metadata": {},
   "source": [
    "# Wheel Speed Analysis with Pandas and Seaborn \n",
    "\n",
    "In the experiment reported by [Steinmetz et al, 2019 in Nature](https://www.nature.com/articles/s41586-019-1787-x), the mice perform a discrimination task where that had to find out which stimuli (left vs right) has the higher contrast. And they report their decision by steering a wheel such that the stimuli with the higher contrast moves to the center screen.\n",
    "\n",
    "##### Analysis Goals\n",
    "In this notebook we will be analyzing the speed at which the mouse turned the wheel to report their decision.\n",
    "\n",
    "##### Learning Goals\n",
    "First, we will be exploring the [**Xarray**](https://docs.xarray.dev/) Python package to load the data files in `.nc` (i.e. netCDF) format. We then will continue our exploration of the [**Pandas**](https://pandas.pydata.org/) and [**Seaborn**](https://seaborn.pydata.org/) Python packages to visualise and analyse this data."
   ]
  },
  {
   "cell_type": "markdown",
   "id": "f8d64682",
   "metadata": {},
   "source": [
    "---"
   ]
  },
  {
   "cell_type": "markdown",
   "id": "cf6177bf",
   "metadata": {},
   "source": [
    "#### Download Dataset\n",
    "\n",
    "This data has been pre-processed from Steinmetz and al 2019, and is hosted on Sciebo: https://uni-bonn.sciebo.de/s/Y8C1TJcuk1GFg3V.  The code below should download one of the files (i.e. \"steinmetz_2016-12-14_Cori.nc\") to the folder `data`."
   ]
  },
  {
   "cell_type": "code",
   "execution_count": null,
   "id": "c6f2916c",
   "metadata": {},
   "outputs": [],
   "source": [
    "sciebo.download_from_sciebo('https://uni-bonn.sciebo.de/s/qmuIZfZC2bRe2iR', 'data/steinmetz_2016-12-14_Cori.nc')"
   ]
  },
  {
   "cell_type": "markdown",
   "id": "62836448",
   "metadata": {},
   "source": [
    "---"
   ]
  },
  {
   "cell_type": "markdown",
   "id": "05ac62ab",
   "metadata": {},
   "source": [
    "## XArray Datasets: From netCDF files to pandas DataFrames\n",
    "\n",
    "We will first explore a new file format: the **NetCDF** format, which is great for handling big, complicated data easily. Unlike a CSV file, which is like a basic spreadsheet, a netCDF file not only holds your data but also can contain the metadata explaining what the data is about. This is quite useful when you're dealing with lots of numbers and measurements.\n",
    "\n",
    "**xarray**\n",
    "\n",
    "| Code               | Description                                                                                                  |\n",
    "|--------------------|--------------------------------------------------------------------------------------------------------------|\n",
    "| `dset = xr.load_dataset()`| Loads a dataset from a specified file path using the xarray library, ideal for multi-dimensional data arrays. |\n",
    "| `dset[\"variable_name\"]`   | Extracts a single variable from the dataset using indexing.                                                   |\n",
    "| `dset[\"variable_name\"].to_dataframe()`     | Creates a Pandas DataFrame from the selected variable, for familiar data manipulation and analysis.   |"
   ]
  },
  {
   "cell_type": "markdown",
   "id": "ca757276-ea1e-49e8-a446-d3891ea7fe33",
   "metadata": {},
   "source": [
    "Let's start by load the file we download using the `xarray` library. "
   ]
  },
  {
   "cell_type": "code",
   "execution_count": null,
   "id": "d28747fb-cef8-4f98-9765-37067c0ed2d9",
   "metadata": {
    "scrolled": true
   },
   "outputs": [],
   "source": [
    "dataset = xr.load_dataset('data/steinmetz_2016-12-14_Cori.nc')\n",
    "dataset"
   ]
  },
  {
   "cell_type": "markdown",
   "id": "e96d965d-d3aa-43b1-9b75-fa0b59895de9",
   "metadata": {},
   "source": [
    "The movement of the wheel is only recorded during \"active trials\". Hence we use the `where(condition)` method of the Xarray DataSet to *drop* all datapoints where the value of `active_trial` is not 1. "
   ]
  },
  {
   "cell_type": "code",
   "execution_count": null,
   "id": "a97257b5-4cd6-429f-94cc-1cb301df51ad",
   "metadata": {},
   "outputs": [],
   "source": [
    "dataset = dataset.where(dataset.active_trials==1 , drop=True)\n",
    "dataset"
   ]
  },
  {
   "cell_type": "markdown",
   "id": "6237ae08",
   "metadata": {},
   "source": [
    "**Note** that now the number of trials is lower. Let's now continue by getting a better understanding of the Xarrat dataset."
   ]
  },
  {
   "cell_type": "markdown",
   "id": "87082232",
   "metadata": {},
   "source": [
    "While you can interactively explore the variables that are available in this dataset, you can also view the variables using the `data_vars` attribute:"
   ]
  },
  {
   "cell_type": "code",
   "execution_count": null,
   "id": "42381515",
   "metadata": {},
   "outputs": [],
   "source": [
    "dataset.data_vars"
   ]
  },
  {
   "cell_type": "markdown",
   "id": "27d30e5a",
   "metadata": {},
   "source": [
    "**Exercies:**\n",
    "\n",
    "Let's explore the dataset we loaded using the Xarray Python package and see how we can turn them into Pandas DataFrames."
   ]
  },
  {
   "cell_type": "markdown",
   "id": "0a500c48",
   "metadata": {},
   "source": [
    "**Example:** Similar to Pandas DataFrame, we can also use the indexing (using `[]`) with variable names to extract a single variable (or multiple variables) from the dataset:"
   ]
  },
  {
   "cell_type": "code",
   "execution_count": null,
   "id": "33f1234b",
   "metadata": {},
   "outputs": [],
   "source": [
    "dataset[\"contrast_left\"]"
   ]
  },
  {
   "cell_type": "markdown",
   "id": "92b6601c",
   "metadata": {},
   "source": [
    "Select only the `response_time` variable from the dataset."
   ]
  },
  {
   "cell_type": "code",
   "execution_count": null,
   "id": "812148cb",
   "metadata": {},
   "outputs": [],
   "source": []
  },
  {
   "cell_type": "markdown",
   "id": "2477ac8b",
   "metadata": {},
   "source": [
    "Using the `.to_dataframe()` method create a Pandas DataFrame from `dataset[\"response_time\"]`."
   ]
  },
  {
   "cell_type": "code",
   "execution_count": null,
   "id": "f2c90c31",
   "metadata": {},
   "outputs": [],
   "source": []
  },
  {
   "cell_type": "markdown",
   "id": "28175f6a",
   "metadata": {},
   "source": [
    "Use the `.reset_index()` on the resulting dataframe to expand the all index columns (e.g. `mouse` and `session_date`) across all rows."
   ]
  },
  {
   "cell_type": "code",
   "execution_count": null,
   "id": "20def347",
   "metadata": {},
   "outputs": [],
   "source": []
  },
  {
   "cell_type": "markdown",
   "id": "2cf5f81a",
   "metadata": {},
   "source": [
    "Using the methods we used above, create a Pandas Dataframe for the wheel speed data (variable name is `wheel`). Let's call it `wheel_df`.\n",
    "\n",
    "The resulting DataFrame will look similar to the following:\n",
    "| mouse | session_date | trial | time | wheel |\n",
    "|-------|--------------|-------|------|-------|\n",
    "| Cori  | 2016-12-14   | 1     | 0.01 | -1.0  |\n",
    "| Cori  | 2016-12-14   | 1     | 0.02 | 0.0   |\n",
    "| Cori  | 2016-12-14   | 1     | 0.03 | 0.0   |\n",
    "| Cori  | 2016-12-14   | 1     | 0.04 | 0.0   |\n",
    "| Cori  | 2016-12-14   | 1     | 0.05 | 0.0   |\n",
    "| ...  | ...  | ...     | ... | ...  |"
   ]
  },
  {
   "cell_type": "code",
   "execution_count": null,
   "id": "b2dbb6e1",
   "metadata": {},
   "outputs": [],
   "source": []
  },
  {
   "cell_type": "markdown",
   "id": "bc5846a1",
   "metadata": {},
   "source": [
    "---"
   ]
  },
  {
   "cell_type": "markdown",
   "id": "3ad73fe1-dcc9-4ea2-abfc-c90043e38e38",
   "metadata": {},
   "source": [
    "## Visualizing Wheel Speed with Seaborn\n",
    "\n",
    "In this section we will use the [**Seaborn**](https://seaborn.pydata.org/) plotting library to visualize the speed at which the mouse turned the wheel in every trial. Not only Seaborn is designed to work well with Pandas DataFrames, but it also produces informative and good-looking plots with a minimal code.   \n",
    "\n",
    "The experimental data contains the wheel speed over time, across all trials. A positive turning speed means that the wheel is being moved to the right, while a negative speed tells us the wheel is being moved to the left. When the wheel is not being moved at all, the turning speed is zero.\n",
    "\n",
    "Let's visualise this data using line plots from the Seaborn library.\n",
    "\n",
    "\n",
    "**pandas**\n",
    "\n",
    "| Code                      | Description                                      |\n",
    "|---------------------------|--------------------------------------------------|\n",
    "| `df['column_name']`       | accessing individual columns.                     |\n",
    "| `df.reset_index()`        | Resets the index of the DataFrame, making it sequential. |\n",
    "| `df.set_index(new_index)` | Sets the index of the DataFrame to `new_index`.  |\n",
    "| `df.unstack()`            | Pivots a level of the index labels to the columns, reshaping the DataFrame. |\n",
    "| `df.stack()`              | Pivots a level of the column labels to the index, reshaping the DataFrame. |\n",
    "\n",
    "**seaborn** \n",
    "\n",
    "| Code                                          | Description                                   |\n",
    "| --------------------------------------------- | --------------------------------------------- |\n",
    "| `sns.lineplot(data)`                          | Plot data as a line.      |\n",
    "| `sns.lineplot(data, label='my_label')`        | Show a legend label associated with data.     |\n",
    "| `sns.lineplot(data, color='blue')`            | Plot a line in blue.                          |\n",
    "| `sns.lineplot(data, linestyle='dotted')`      | Plot a dotted line.                           |"
   ]
  },
  {
   "cell_type": "markdown",
   "id": "0136cac2",
   "metadata": {},
   "source": [
    "Before we start visualizing the wheel speed, let's restructure our `wheel_df` such that it becomes a bit easier to analyse. Let's change the dataframe such that as indices we have `time` and as columns we have `trial`:"
   ]
  },
  {
   "cell_type": "markdown",
   "id": "502283f9",
   "metadata": {},
   "source": [
    "Set `time` and `trial` both as indices of the `wheel_df`, using `.set_index()` method."
   ]
  },
  {
   "cell_type": "code",
   "execution_count": null,
   "id": "046491fd",
   "metadata": {},
   "outputs": [],
   "source": [
    "wheel_df_indexed = wheel_df.set_index(['time', 'trial'])\n",
    "wheel_df_indexed"
   ]
  },
  {
   "cell_type": "markdown",
   "id": "8100a519",
   "metadata": {},
   "source": [
    "Use `[]` to select the `\"wheel\"` column, and apply the `.unstack()` method."
   ]
  },
  {
   "cell_type": "code",
   "execution_count": null,
   "id": "4615f5cd",
   "metadata": {},
   "outputs": [],
   "source": [
    "wheel_df = wheel_df_indexed[\"wheel\"].unstack()\n",
    "wheel_df"
   ]
  },
  {
   "cell_type": "markdown",
   "id": "2d45113c-b2af-43e5-a19d-283a4f27b121",
   "metadata": {},
   "source": [
    "**Exercises**"
   ]
  },
  {
   "cell_type": "markdown",
   "id": "b74392f1-aadc-4bed-9264-fd25921d1b67",
   "metadata": {},
   "source": [
    "**Example:** Use a line plot to plot the wheel speed for trial 7."
   ]
  },
  {
   "cell_type": "code",
   "execution_count": null,
   "id": "7e98cef9",
   "metadata": {},
   "outputs": [],
   "source": [
    "sns.lineplot(wheel_df[7])"
   ]
  },
  {
   "cell_type": "markdown",
   "id": "dc85a00f",
   "metadata": {},
   "source": [
    "Use a line plot to plot the wheel speed for trial 17."
   ]
  },
  {
   "cell_type": "code",
   "execution_count": null,
   "id": "054a8bb0",
   "metadata": {},
   "outputs": [],
   "source": []
  },
  {
   "cell_type": "markdown",
   "id": "a6a97d34-73b7-4577-97d4-e635474b6e7d",
   "metadata": {},
   "source": [
    "Create a line plot for the wheel speed in two different trials (e.g. trial 9 and 21) by calling the plotting function twice."
   ]
  },
  {
   "cell_type": "code",
   "execution_count": null,
   "id": "2153f6c1-f71f-4590-8475-8d3b2ed46f3f",
   "metadata": {},
   "outputs": [],
   "source": []
  },
  {
   "cell_type": "markdown",
   "id": "d42b508a",
   "metadata": {},
   "source": [
    "Let's now explore some of the other arguments that we can pass into the `sns.lineplot()` function to change the style of the plot or add more information to it (e.g. a legend)."
   ]
  },
  {
   "cell_type": "markdown",
   "id": "4ee31848",
   "metadata": {},
   "source": [
    "Recreate the plot above where one trial is shown as a dotted line."
   ]
  },
  {
   "cell_type": "code",
   "execution_count": null,
   "id": "7d0d0bc1",
   "metadata": {},
   "outputs": [],
   "source": []
  },
  {
   "cell_type": "markdown",
   "id": "82bdc660-1d88-4915-978b-89435aac178a",
   "metadata": {},
   "source": [
    "Recreate the plot above, this time adding a legend to the plot. **Hint:** specify a `label` for each line plot."
   ]
  },
  {
   "cell_type": "code",
   "execution_count": null,
   "id": "36769cff-4204-4553-be4e-7edb477a461c",
   "metadata": {},
   "outputs": [],
   "source": []
  },
  {
   "cell_type": "markdown",
   "id": "80c00489-bb76-4e15-86ff-c0444ab08e1a",
   "metadata": {},
   "source": [
    "Plot three trials, where each trial has the same line color but a different linestyle"
   ]
  },
  {
   "cell_type": "code",
   "execution_count": null,
   "id": "b931b23b-171d-457e-b10d-d19aa86de110",
   "metadata": {},
   "outputs": [],
   "source": []
  },
  {
   "cell_type": "markdown",
   "id": "6732adba-cf1d-4308-b910-2ce1306e73fc",
   "metadata": {},
   "source": [
    "Plot three trials, where each trial has a different line color but the same linestyle"
   ]
  },
  {
   "cell_type": "code",
   "execution_count": null,
   "id": "327d17db-c651-44cc-b7e1-1696dae7a4ff",
   "metadata": {},
   "outputs": [],
   "source": []
  },
  {
   "cell_type": "markdown",
   "id": "de7072f0",
   "metadata": {},
   "source": [
    "Instead of using a single value to select a specific trial, we can specify a list of trial numbers using `[]`, and plot all of them at the same time. \n",
    "\n",
    "**Example:** Plot wheel speed for trials 9, 34, and 21."
   ]
  },
  {
   "cell_type": "code",
   "execution_count": null,
   "id": "16e4276f",
   "metadata": {},
   "outputs": [],
   "source": [
    "sns.lineplot(wheel_df[[9, 34, 21]])"
   ]
  },
  {
   "cell_type": "markdown",
   "id": "b9e40f9b-13b1-497b-a1e8-730f64b5106c",
   "metadata": {},
   "source": [
    "And now let's plot the wheel speeds for all trials. **Hint:** pass the argument `legend=None` to `lineplot` to hide the legend."
   ]
  },
  {
   "cell_type": "code",
   "execution_count": null,
   "id": "88a9df11-5b17-492b-af17-6d79dbfe71ab",
   "metadata": {},
   "outputs": [],
   "source": []
  },
  {
   "cell_type": "markdown",
   "id": "7d0de983-39c5-434c-b5f0-9c0737084b72",
   "metadata": {},
   "source": [
    "Remake the above plot changing the opacity of the lines. **Hint:** `lineplot` has an argument `alpha` that takes values between 0 and 1. "
   ]
  },
  {
   "cell_type": "code",
   "execution_count": null,
   "id": "d0e19a8f-dce6-4d72-bb71-92fd8bb1910d",
   "metadata": {},
   "outputs": [],
   "source": []
  },
  {
   "cell_type": "markdown",
   "id": "81f7aeb3-081f-4564-9213-cc831aac411f",
   "metadata": {},
   "source": [
    "Experiment with the `alpha` value to find which value best displays the lines."
   ]
  },
  {
   "cell_type": "code",
   "execution_count": null,
   "id": "e34251d4-7407-4c43-84ed-c028f5cf0f0d",
   "metadata": {},
   "outputs": [],
   "source": []
  },
  {
   "cell_type": "markdown",
   "id": "cff7f3e4-ed8a-4b7c-8640-4b2c493b54c3",
   "metadata": {},
   "source": [
    "**BONUS** This looks overplotted! Instead we can make a heatmap, which shows how many datapoints are in a region of the plot.\n",
    "\n",
    "Here is the idea: we want to change the line plot essentially to a 2d histogram: one dimension is time, and the other wheel speed, the count is basically how many times every combination of these two variables happened in the dataset.\n",
    "\n",
    "Here are the steps:\n",
    "\n",
    "1. we are going to bin the the columns that correspond to the line plot, namely time and wheel speed\n",
    "2. then we will chunck our dataframe for unique combination of these two bins\n",
    "3. we will count the number of entries for each chunck\n",
    "\n",
    "Pandas and seaborn give us all the tools we need for this:"
   ]
  },
  {
   "cell_type": "code",
   "execution_count": null,
   "id": "36fa82a4",
   "metadata": {},
   "outputs": [],
   "source": [
    "# first we need to make both time and wheel to be a single column\n",
    "wheel_df_reset_index = wheel_df.stack().reset_index(name=\"wheel\")\n",
    "wheel_df_reset_index"
   ]
  },
  {
   "cell_type": "code",
   "execution_count": null,
   "metadata": {},
   "outputs": [],
   "source": [
    "time_bin_size = .1\n",
    "wheel_bin_size = 2\n",
    "\n",
    "time_bin_index = wheel_df_reset_index['time'] // time_bin_size\n",
    "wheel_bin_index = wheel_df_reset_index['wheel'] // wheel_bin_size\n",
    "sns.heatmap(wheel_df_reset_index.groupby([wheel_bin_index, time_bin_index]).size().unstack(fill_value=0), norm=LogNorm(), cmap=plt.cm.Greys,);"
   ]
  },
  {
   "cell_type": "markdown",
   "id": "6eec78bf-d383-4fba-8e27-f3b9b7032d23",
   "metadata": {},
   "source": [
    "What happens when you change the bin size for time and/or for the wheel speed?\n"
   ]
  },
  {
   "cell_type": "code",
   "execution_count": null,
   "id": "57f17911",
   "metadata": {},
   "outputs": [],
   "source": []
  },
  {
   "cell_type": "markdown",
   "id": "0af19740",
   "metadata": {},
   "source": [
    "---"
   ]
  },
  {
   "cell_type": "markdown",
   "id": "4ed9bc8e-528f-4721-b4b4-b3a6a6951760",
   "metadata": {},
   "source": [
    "## Describing Data with Metrics: Determining Turning Direction\n",
    "\n",
    "Data analysis is all about making sense of data. Statistics like averages is one example of this. Such measures can help us minimise the amount of data that we need to think about and allow to answer more generic questions. In the context of the wheel speed data that we have been working on so far, a natural question is: **which way did the subject turn the wheel?**\n",
    "\n",
    "In this section, we will be using aggregation methods such as `.mean()` combined with filtering to further analyze the wheel speed data for instance to only look at trials in which the wheel was turned to the left.\n",
    "\n",
    "**Pandas**\n",
    "\n",
    "| Code                             | Description                                                      |\n",
    "| -------------------------------- | ---------------------------------------------------------------- |\n",
    "| `df.mean()`                      | Calculate the mean of every column of a dataframe.               |\n",
    "| `df[df < 0]`                     | Filtering based on a condition, suitable for a Pandas Series.    |\n",
    "| `df[[\"column1\", \"column2\"]]`     | Select multiple specific columns from a dataframe.               |\n",
    "| `len(df)`                        | Count the number of rows in a dataframe.                         | "
   ]
  },
  {
   "cell_type": "markdown",
   "id": "41f428ee",
   "metadata": {},
   "source": [
    "Let's start by re-creating the `wheel_df` using the methods we used earlier in this notebook:"
   ]
  },
  {
   "cell_type": "code",
   "execution_count": null,
   "id": "156aef28-7845-45e0-a891-7d00e922d5d5",
   "metadata": {},
   "outputs": [],
   "source": [
    "wheel_df = dataset['wheel'].to_dataframe().reset_index().set_index(['time', 'trial'])['wheel'].unstack()\n",
    "wheel_df"
   ]
  },
  {
   "cell_type": "markdown",
   "id": "123c02b4-6019-4b75-a198-c6828547db6e",
   "metadata": {},
   "source": [
    "**Exercises**"
   ]
  },
  {
   "cell_type": "markdown",
   "id": "deabb2e4-7b66-488d-b657-cf28e5adc3d3",
   "metadata": {},
   "source": [
    "Calculate the mean wheel speed for each trial from `wheel_df`. Name the result `mean_wheel_speeds`."
   ]
  },
  {
   "cell_type": "code",
   "execution_count": null,
   "id": "f164eafb-4cf0-4651-a715-fbf8a3674322",
   "metadata": {},
   "outputs": [],
   "source": []
  },
  {
   "cell_type": "markdown",
   "id": "a3d83a67-9fc4-4270-8d84-0b75cb03b668",
   "metadata": {},
   "source": [
    "In the next few steps, we will use `mean_wheel_speeds` and `wheel_df` to visualize the trials that the average wheel speed was greater that 0."
   ]
  },
  {
   "cell_type": "markdown",
   "id": "ac575705",
   "metadata": {},
   "source": [
    "First, identify the trial numbers where the mean wheel speed is greater than 0. **Hint:** the index of `mean_wheel_speeds` is the trial number."
   ]
  },
  {
   "cell_type": "code",
   "execution_count": null,
   "id": "3f8d8184-5bcd-4510-ab1d-2dc04f44b9ee",
   "metadata": {},
   "outputs": [],
   "source": []
  },
  {
   "cell_type": "markdown",
   "id": "efb7b2b7-147b-4151-9cf9-064f7753d784",
   "metadata": {},
   "source": [
    "How many trials have a mean wheel speed greater than 0?"
   ]
  },
  {
   "cell_type": "code",
   "execution_count": null,
   "id": "13d94695-c391-4063-a74c-a546f34dc555",
   "metadata": {},
   "outputs": [],
   "source": []
  },
  {
   "cell_type": "markdown",
   "id": "7bd5d532-3b57-4be6-9d9e-6697a1da4777",
   "metadata": {},
   "source": [
    "Now that we have the trial numbers where the wheel speed was positive on average:\n",
    "1. use it to index the corresponding columns of our `wheel_df` dataframe\n",
    "2. plot the wheel speed for the these trials. **Sanity check:** the lines should mostly be above 0"
   ]
  },
  {
   "cell_type": "code",
   "execution_count": null,
   "id": "fb4de884-f044-4c97-83b8-2c6a7cbd1f5f",
   "metadata": {},
   "outputs": [],
   "source": []
  },
  {
   "cell_type": "markdown",
   "id": "71ec8903-2317-42c3-8465-8e6d782f156d",
   "metadata": {},
   "source": [
    "Find the number of trials where the mean wheel speed is less than 0."
   ]
  },
  {
   "cell_type": "code",
   "execution_count": null,
   "id": "37609cae-4fb4-401d-9e08-5c7e13194820",
   "metadata": {},
   "outputs": [],
   "source": []
  },
  {
   "cell_type": "markdown",
   "id": "2c63c1c4-f0c1-4b1b-9161-c84aa9ffc880",
   "metadata": {},
   "source": [
    "Find the number of trials where the mean wheel speed is 0."
   ]
  },
  {
   "cell_type": "code",
   "execution_count": null,
   "id": "8ca647e0-d3fd-4438-ab81-81e4128b300d",
   "metadata": {},
   "outputs": [],
   "source": []
  },
  {
   "cell_type": "markdown",
   "id": "49624390-e00d-480e-8d01-d3bddd019997",
   "metadata": {},
   "source": [
    "Let's now try the same analysis, but this time Instead we will find trials whose maximum wheel speed is greater than 10.\n",
    "Determine the maximum wheel speed for each trial. Call this `max_wheel_speeds`.\n"
   ]
  },
  {
   "cell_type": "code",
   "execution_count": null,
   "id": "aae95def-24e8-48de-b9bd-192d1ae52f21",
   "metadata": {},
   "outputs": [],
   "source": []
  },
  {
   "cell_type": "markdown",
   "id": "aa6edd77-5a9f-4728-9977-d5823eb806e1",
   "metadata": {},
   "source": [
    "Find the trials numbers where the maximum wheel speed is greater than 10."
   ]
  },
  {
   "cell_type": "code",
   "execution_count": null,
   "id": "5c9bc7c7-8288-435d-ba42-92aebd35bb64",
   "metadata": {},
   "outputs": [],
   "source": []
  },
  {
   "cell_type": "markdown",
   "id": "e5a08348-b73c-46ba-b65a-2e2f796d7a76",
   "metadata": {},
   "source": [
    "Plot the wheel speeds of trials where the maximum wheel speed is greater than 10."
   ]
  },
  {
   "cell_type": "code",
   "execution_count": null,
   "id": "5d9ed2cf-20eb-4ecc-837d-c3e2e1899097",
   "metadata": {},
   "outputs": [],
   "source": []
  },
  {
   "cell_type": "markdown",
   "id": "4dfa1172-6018-4da4-a1d7-acce97343ab4",
   "metadata": {},
   "source": [
    "How many trials have a maximum wheel speed greater than 10?"
   ]
  },
  {
   "cell_type": "code",
   "execution_count": null,
   "id": "bbb20eba-f7c6-466d-aecc-bf55e8aa4c32",
   "metadata": {},
   "outputs": [],
   "source": []
  },
  {
   "cell_type": "markdown",
   "id": "a7cd274c",
   "metadata": {},
   "source": [
    "---"
   ]
  },
  {
   "cell_type": "markdown",
   "id": "66351451-688f-4681-906b-ac3088506f63",
   "metadata": {},
   "source": [
    "## Result Validation using Python's Print Function\n",
    "\n",
    "Python's `print` function is integral for outputting human-readable results. In this section we will use print statements to compare different metrics to determine the wheel turning direction, and produce cleanly formatted sentences\n",
    "\n",
    "We have two metrics to determine the wheel turning direction:\n",
    "* when the mean wheel speed is greater than 0 -> the wheel was turned to the right\n",
    "* when the maximum turning speed is greater than 10 -> the wheel was turned to the right\n",
    "\n",
    "Luckily, the authors have also provided information in the dataset that specifies when they considered the turn to be left, right, or no turn. This information is in the `response_type` variable. <br>\n",
    "A `response_type` of:\n",
    "- $ \\ 1 \\ \\ : \\ $ corresponds to a right turn\n",
    "- $-1: \\ $ corresponds to a left turn\n",
    "- $ \\ 0 \\ \\ : \\ $  corresponds to no turning at all\n",
    "\n",
    "Let's compare our metric for determining the turning directoin with the information provided by the authors.\n",
    "\n",
    "\n",
    "**Python**\n",
    "\n",
    "| Code                                                          | Description                                                      |\n",
    "|---------------------------------------------------------------|------------------------------------------------------------------|\n",
    "| `print(f\"This is a formatted string with {variable}\")`         | Print a string with variable value embedded.                     |\n",
    "| `print(\"The mean speed is {:.2f}\".format(mean_speed))`         | Print a string with a formatted floating-point number.          |\n",
    "\n",
    "**Pandas**\n",
    "\n",
    "| Code                                                          | Description                                                      |\n",
    "|---------------------------------------------------------------|------------------------------------------------------------------|\n",
    "| `df[df['column1'] == 8]`                                      | Filter dataframe rows based on a single condition.               |\n",
    "| `df['column2'].isin(values)`                                  | Find rows of dataframe where column values are in a provided list of values.            |\n",
    "| `df[(df['column2'] == 4) & (df['column1'] > 2)]`              | Filter dataframe based on multiple conditions.                   |"
   ]
  },
  {
   "cell_type": "markdown",
   "id": "fc1efdf0-a5b8-4df5-b026-74592b47d39d",
   "metadata": {},
   "source": [
    "First, let's get the response types from the data."
   ]
  },
  {
   "cell_type": "code",
   "execution_count": null,
   "id": "323cfd05-1b32-4a7b-9868-b80290c7a597",
   "metadata": {},
   "outputs": [],
   "source": [
    "response_df = dataset[\"response_type\"].to_dataframe()\n",
    "response_df = response_df.reset_index()\n",
    "response_df"
   ]
  },
  {
   "cell_type": "markdown",
   "id": "3d6e6ede",
   "metadata": {},
   "source": [
    "**Exercises**"
   ]
  },
  {
   "cell_type": "markdown",
   "id": "66a34a63",
   "metadata": {},
   "source": [
    "**Example:** Print the value of variable `var_a` using format string."
   ]
  },
  {
   "cell_type": "code",
   "execution_count": null,
   "id": "b069e021",
   "metadata": {},
   "outputs": [],
   "source": [
    "var_a = 83\n",
    "print(f'the value of my variable is {var_a}.')"
   ]
  },
  {
   "cell_type": "markdown",
   "id": "53ba324b-8134-4aaf-acee-6805d3ca6e49",
   "metadata": {},
   "source": [
    "Print the number of trials where the mean speed is less than zero using format string."
   ]
  },
  {
   "cell_type": "code",
   "execution_count": null,
   "id": "19ca1cd5-77eb-4981-b175-a115b2ba6866",
   "metadata": {},
   "outputs": [],
   "source": [
    "num_trials_with_mean_less_than_zero = len(mean_wheel_speeds[mean_wheel_speeds<0])"
   ]
  },
  {
   "cell_type": "code",
   "execution_count": null,
   "metadata": {},
   "outputs": [],
   "source": []
  },
  {
   "cell_type": "markdown",
   "id": "d9b71da6-662d-4d3d-babc-2592d49b4e41",
   "metadata": {},
   "source": [
    "Print the number of trials where the mean speed is equal to zero."
   ]
  },
  {
   "cell_type": "code",
   "execution_count": null,
   "id": "342c680c-32e8-4140-a118-62cc0de88e46",
   "metadata": {},
   "outputs": [],
   "source": []
  },
  {
   "cell_type": "markdown",
   "id": "f71aa91d-1b6c-4fa2-8f8b-f545ca48e48f",
   "metadata": {},
   "source": [
    "Print the percentage of trials where the mean speed is equal to zero."
   ]
  },
  {
   "cell_type": "code",
   "execution_count": null,
   "id": "12c3d185-36cd-4a06-a97d-05c8b9693457",
   "metadata": {},
   "outputs": [],
   "source": []
  },
  {
   "cell_type": "markdown",
   "id": "1bc956c1-43da-4bab-9e66-d8e877411723",
   "metadata": {},
   "source": [
    "Are there too many decimal points in the number? We can apply rounding to 4 decimal places by writing the print statement like so:\n",
    "\n",
    "```python\n",
    "print(f\"{my_variable:.4f}\"`\n",
    "```"
   ]
  },
  {
   "cell_type": "markdown",
   "id": "e2e4d2ca",
   "metadata": {},
   "source": [
    "Display the percentage of trials with zero mean speed rounded to 3 decimal places."
   ]
  },
  {
   "cell_type": "code",
   "execution_count": null,
   "id": "41eed747-38fd-478d-a5b2-f640307cd859",
   "metadata": {},
   "outputs": [],
   "source": []
  },
  {
   "cell_type": "markdown",
   "id": "56e988ed-9d6f-4e38-b1e6-80abfd5c57fa",
   "metadata": {},
   "source": [
    "Now let's move on to comparing the turning direction of our predictions with those of the dataset authors, Steinmetz et. al. We will be focusing on the **right turns**.\n",
    "\n",
    "Find trials in `response_df` where `response_type` is 1 (that means wheel was turned to the right). Call this `steinmetz_trials`."
   ]
  },
  {
   "cell_type": "code",
   "execution_count": null,
   "id": "52bb0993",
   "metadata": {},
   "outputs": [],
   "source": []
  },
  {
   "cell_type": "markdown",
   "id": "d4297f3c-9ca2-44c8-b5d4-8d10d6df8d0e",
   "metadata": {},
   "source": [
    "Get the rows of `mean_wheel_speeds` where `mean_wheel_speeds.index` is in `steinmetz_trials`. These are the mean wheel speeds of trials where the dataset authors recorded a right turn of the wheel."
   ]
  },
  {
   "cell_type": "code",
   "execution_count": null,
   "id": "33301016",
   "metadata": {},
   "outputs": [],
   "source": []
  },
  {
   "cell_type": "markdown",
   "id": "749a83ba",
   "metadata": {},
   "source": [
    "If our approach of using the mean wheel speed is what the authors used, all the mean wheel speeds should now be greater than 0. Is that the case? \n",
    "\n",
    "\n",
    "Using a print statement describe the result, mentioning the percentage of the values that are greater than zero."
   ]
  },
  {
   "cell_type": "code",
   "execution_count": null,
   "id": "bbfb0d70-62a4-4ae1-a4b3-c9e1a4cd6617",
   "metadata": {},
   "outputs": [],
   "source": []
  },
  {
   "cell_type": "markdown",
   "id": "51289f45-1cb6-47fe-b407-0a8e1aa4a196",
   "metadata": {},
   "source": [
    "Let's repeat the above analysis, but instead taking the other criteria where the maximum wheel speed is greater than 10. Is the closer to what authors might have used to identify right turns?"
   ]
  },
  {
   "cell_type": "code",
   "execution_count": null,
   "id": "ea653bd8-3d30-45fd-84cd-4cd421175897",
   "metadata": {},
   "outputs": [],
   "source": []
  }
 ],
 "metadata": {
  "kernelspec": {
   "display_name": "Python 3 (ipykernel)",
   "language": "python",
   "name": "python3"
  },
  "language_info": {
   "codemirror_mode": {
    "name": "ipython",
    "version": 3
   },
   "file_extension": ".py",
   "mimetype": "text/x-python",
   "name": "python",
   "nbconvert_exporter": "python",
   "pygments_lexer": "ipython3",
   "version": "3.11.5"
  }
 },
 "nbformat": 4,
 "nbformat_minor": 5
}
