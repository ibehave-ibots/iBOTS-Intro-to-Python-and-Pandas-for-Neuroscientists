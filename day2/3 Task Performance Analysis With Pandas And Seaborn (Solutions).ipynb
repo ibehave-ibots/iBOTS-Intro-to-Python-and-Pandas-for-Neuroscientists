{
 "cells": [
  {
   "cell_type": "code",
   "execution_count": null,
   "metadata": {},
   "outputs": [],
   "source": [
    "# %pip install --upgrade pandas seaborn"
   ]
  },
  {
   "cell_type": "code",
   "execution_count": null,
   "metadata": {},
   "outputs": [],
   "source": [
    "# Ignore future warnings\n",
    "import warnings\n",
    "warnings.simplefilter(action='ignore', category=FutureWarning)\n",
    "\n",
    "# import external packages\n",
    "import pandas as pd\n",
    "import seaborn as sns\n",
    "import matplotlib.pyplot as plt\n",
    "\n",
    "\n",
    "# Add path with self-created packages and import them\n",
    "import sys\n",
    "sys.path.append('./src')\n",
    "import sciebo"
   ]
  },
  {
   "cell_type": "markdown",
   "metadata": {},
   "source": [
    "#### Download Dataset\n",
    "\n",
    "This data has been pre-processed from Steinmetz and al 2019, and is hosted on Sciebo here: https://uni-bonn.sciebo.de/s/wjsBtZzUVjKaB3J.  The code below should download it to the folder `data/steinmetz_all.csv`"
   ]
  },
  {
   "cell_type": "code",
   "execution_count": null,
   "metadata": {},
   "outputs": [],
   "source": [
    "sciebo.download_from_sciebo('https://uni-bonn.sciebo.de/s/wjsBtZzUVjKaB3J', 'data/steinmetz_all.csv')"
   ]
  },
  {
   "cell_type": "markdown",
   "metadata": {},
   "source": [
    "## Analyzing Behavioral Task Performance with Pandas and Seaborn: Psychometric Analysis on Ordered Categorical Data\n",
    "\n",
    "In the experiment reported in by [Steinmetz et al, 2019 in Nature](https://www.nature.com/articles/s41586-019-1787-x), mice were tasked with turning a wheel to the left or right based on the relative contrast levels of two simultaneously-presented gradient stimuli:\n",
    "\n",
    "<img src=\"https://uni-bonn.sciebo.de/index.php/apps/files_sharing/ajax/publicpreview.php?x=2560&y=921&a=true&file=steinmetz_task2.png&t=gulZ14DB3llTenW&scalingup=0\" width=300>\n",
    "\n",
    "\n",
    "##### Analysis Goals\n",
    "\n",
    "In this notebook, we'll examine the `response_time` and `response_type` of each trial across all sessions, to determine whether the mice successfully performed the task, and whether the difference in contrast levels between the two stimuli affected their performance.  \n",
    "\n",
    "\n",
    "##### Learning Goals\n",
    "\n",
    "We'll use this as an opportunity to get to know the [**Seaborn**](https://seaborn.pydata.org/) Python package's core syntax.  Seaborn is a statistical plotting library that takes Pandas Dataframes and turns them into plots (including making errorbars)!  "
   ]
  },
  {
   "cell_type": "markdown",
   "metadata": {},
   "source": [
    "--- \n",
    "\n",
    "**Load Data**: Use the `pd.read_csv()` function to load the `steinmetz_all.csv` file in the `data` folder into a Pandas DataFrame:"
   ]
  },
  {
   "cell_type": "code",
   "execution_count": null,
   "metadata": {},
   "outputs": [],
   "source": [
    "df = pd.read_csv('data/steinmetz_all.csv')\n",
    "df.head()"
   ]
  },
  {
   "cell_type": "markdown",
   "metadata": {},
   "source": [
    "Note that our CSV file has this column called `\"Unnamed: 0\"`, which is not really wanted. We can drop it using the `.drop` method of the Pandas DataFrame:"
   ]
  },
  {
   "cell_type": "code",
   "execution_count": null,
   "metadata": {},
   "outputs": [],
   "source": [
    "df = df.drop(columns=\"Unnamed: 0\")\n",
    "df.head()"
   ]
  },
  {
   "cell_type": "markdown",
   "metadata": {},
   "source": [
    "---\n",
    "\n",
    "### Performance Analysis:  Average Response Type for Each Stimulus Contrast Level\n",
    "\n",
    "How did the mice perform in the task, overall?  Let's use seaborn to make a basic statistical analysis comparing different variables against each other.\n",
    "\n",
    "\n",
    "What makes Seaborn particularly nice is that most of its functions have the same syntax:\n",
    "\n",
    "```python\n",
    "sns.typeofplot(       #  Function name (what type of plot do you want to make?\n",
    "    data=df,          #  Dataframe variable (what data will this plot be made from?)\n",
    "    x=\"column1\",      #  Column to use for the x axis of the plot.\n",
    "    y=\"column2\",      #  Column to use for the y axis of the plot.\n",
    "    hue=\"column3\",    #  Column to use for splitting the data into different colors.\n",
    "    ...               # ...more columns can be added, to make a richer and more complex plot!\n",
    ")\n",
    "```\n",
    "\n",
    "In this notebook, we'll look at the plots that help compare a continuous variable across different levels of a categorical variable:\n",
    "\n",
    "| Plotting Function | Description | Example |\n",
    "| :-- | :-- | :-- |\n",
    "| **`sns.barplot()`** | A bar plot | `sns.barplot(data=df, x='mouse', y='response_time')` |\n",
    "| **`sns.pointplot()`** | a plot with errobars at markers for each category level, and a line connecting each point. | `sns.pointplot(dta=df, x='mouse', y='response_time')`   |"
   ]
  },
  {
   "cell_type": "markdown",
   "metadata": {},
   "source": [
    "**Exercises**: \n",
    "\n",
    "On average, how did the subjects respond when presented with various contrast levels on the right and left stimuli? For each exercise, we'll use seaborn to make the requested plot."
   ]
  },
  {
   "cell_type": "markdown",
   "metadata": {},
   "source": [
    "#### Bar Plots"
   ]
  },
  {
   "cell_type": "markdown",
   "metadata": {},
   "source": [
    "**Example**: Make a bar plot with `contrast_right` levels on the x-axis and `response_type` on the y-axis.  What do you observe?"
   ]
  },
  {
   "cell_type": "code",
   "execution_count": null,
   "metadata": {},
   "outputs": [],
   "source": [
    "sns.barplot(data=df, x='contrast_right', y='response_type');"
   ]
  },
  {
   "cell_type": "markdown",
   "metadata": {},
   "source": [
    "Make a bar plot with `contrast_left` levels on the x-axis and `response_type` on the y-axis.  What do you observe?"
   ]
  },
  {
   "cell_type": "code",
   "execution_count": null,
   "metadata": {},
   "outputs": [],
   "source": [
    "sns.barplot(data=df, x=\"contrast_left\", y=\"response_type\")"
   ]
  },
  {
   "cell_type": "markdown",
   "metadata": {},
   "source": [
    "Let's create the same plot but \"transposed\": such that we have the bars horizontally instead of vertically. \n",
    "\n",
    "Make a bar plot with `response_type` as the x-axis and `contrast_left` levels on the y-axis.  What does seaborn do here? Is this what we want? (note: to fix this, you can add the argument `orient='h'`. By default, seaborn has `orient='v'`)"
   ]
  },
  {
   "cell_type": "code",
   "execution_count": null,
   "metadata": {},
   "outputs": [],
   "source": [
    "sns.barplot(data=df, x=\"response_type\", y=\"contrast_left\", orient=\"h\")"
   ]
  },
  {
   "cell_type": "markdown",
   "metadata": {},
   "source": [
    "Let's combine the x-axis and the hue together!  Make a bar plot with `contrast_left` levels on both the x-axis and hue and `response_type` on the y-axis. (Note: If you don't like having the legend anymore, you can additionally set `legend=False`.)"
   ]
  },
  {
   "cell_type": "code",
   "execution_count": null,
   "metadata": {},
   "outputs": [],
   "source": [
    "sns.barplot(data=df, x=\"contrast_left\", y=\"response_type\", hue=\"contrast_left\", legend=False)"
   ]
  },
  {
   "cell_type": "markdown",
   "metadata": {},
   "source": [
    "Make a bar plot with `contrast_left` levels on the x-axis and `response_type` as the `hue` (i.e. the color of the bars). No need to specify anything for the y-axis. What do you observe?"
   ]
  },
  {
   "cell_type": "code",
   "execution_count": null,
   "metadata": {},
   "outputs": [],
   "source": [
    "sns.barplot(data=df, x=\"contrast_left\", hue=\"response_type\")"
   ]
  },
  {
   "cell_type": "markdown",
   "metadata": {},
   "source": [
    "How does the response_time look like for different combinations of left_contrast and right_contrast?  Make a bar plot with `contrast_left` levels on the x-axis, `contrast_right` on the hue, and `response_type` on the y-axis.  Waht's nice about this plot, and what's not so nice?"
   ]
  },
  {
   "cell_type": "code",
   "execution_count": null,
   "metadata": {},
   "outputs": [],
   "source": [
    "sns.barplot(data=df, x=\"contrast_left\", y=\"response_type\", hue=\"contrast_right\")"
   ]
  },
  {
   "cell_type": "markdown",
   "metadata": {},
   "source": [
    "##### Point Plots"
   ]
  },
  {
   "cell_type": "markdown",
   "metadata": {},
   "source": [
    "**Example**: Make a point plot with `contrast_right` on the x-axis and `response_type` on the y-axis.  What do you observe?"
   ]
  },
  {
   "cell_type": "code",
   "execution_count": null,
   "metadata": {},
   "outputs": [],
   "source": [
    "sns.pointplot(data=df, x='contrast_right', y='response_type');"
   ]
  },
  {
   "cell_type": "markdown",
   "metadata": {},
   "source": [
    "Make a point plot with `contrast_left` on the x-axis and `response_type` on the y-axis.  What do you observe?"
   ]
  },
  {
   "cell_type": "code",
   "execution_count": null,
   "metadata": {},
   "outputs": [],
   "source": [
    "sns.pointplot(data=df, x='contrast_left', y='response_type');"
   ]
  },
  {
   "cell_type": "markdown",
   "metadata": {},
   "source": [
    "Call the `sns.pointplot()` function twice (on two seperate lines), first with `contrast_left` on the x-axis and then with `contrast_right` on the x-axis.  What do you observe?  What's good and bad about this plot?"
   ]
  },
  {
   "cell_type": "code",
   "execution_count": null,
   "metadata": {},
   "outputs": [],
   "source": [
    "sns.pointplot(data=df, x='contrast_right', y='response_type');\n",
    "sns.pointplot(data=df, x='contrast_left', y='response_type');"
   ]
  },
  {
   "cell_type": "markdown",
   "metadata": {},
   "source": [
    "How does the left_contrast values compare with the right_contrast values?  Make a point plot with `contrast_left` levels on the x-axis, `contrast_right` on the hue, and `response_type` on the y-axis. What do you observe?  (Note: to shift values a bit to keep errorbars from obscuring each other, try setting `dodge=True`)"
   ]
  },
  {
   "cell_type": "code",
   "execution_count": null,
   "metadata": {},
   "outputs": [],
   "source": [
    "sns.pointplot(data=df, x='contrast_left', y='response_type', hue=\"contrast_right\", dodge=True);"
   ]
  },
  {
   "cell_type": "markdown",
   "metadata": {},
   "source": [
    "---\n",
    "\n",
    "### Interpreting and Setting Error Bar Types: Confidence Interval vs Standard Deviation vs Standard Error\n",
    "\n",
    "Bar plots and point plots show \"point estimates\" of a variable; also known as \"aggregations\" or \"descriptive statistics\".  For example, the mean and median are point estimates; they take a range of data and estimate its center at a single point.\n",
    "\n",
    "Error bars are essential because they tell us either the variation in the data underlying that estimate, or alternatively the quality of the estimate (by showing the range of uncertainty underlying it).  Here are the four most common types of errorbars and their purposes:\n",
    "\n",
    "| Error Bar Type | Unit | Purpose | Implies Normal Distribution? | Seaborn Setting Example | Interpretation of Example |\n",
    "| :-- | :-- | :-- | :-- | :-- | :-- |\n",
    "| Standard Deviation | variable's unit | Show Data Variation | Yes | `errorbar=('sd', 1)` | \"One Standard Deviation\" | \n",
    "| Percentile Interval | percent | Show Data Variation | No | `errorbar=('pi', 95)` | \"95% Intervals\" | \n",
    "| Standard Error (of the Mean) | variable's unit | Show Estimate Uncertainty | Yes | `errorbar=('se', 1)` | \"One Standard Error\" | \n",
    "| Confidence Intervals | percent | Show Estimate Uncertainty | No | `errorbar=('ci', 95)` | \"95% Confidence Intervals\" |\n",
    "\n",
    "\n",
    "Seaborn by default calculates the mean of the data, and shows its uncertanty using a 95% Confidence Interval.  This is a good default, but it can be changed to other settings.  Let's get a feel for these error bar types!"
   ]
  },
  {
   "cell_type": "markdown",
   "metadata": {},
   "source": [
    "**Exercises**: \n",
    "\n",
    "In each of the following exercises, explore the errorbars by re-making the last plot in the previous section, setting the errobars to different types and levels:"
   ]
  },
  {
   "cell_type": "markdown",
   "metadata": {},
   "source": [
    "**Example**: Make 95% confidence intervals."
   ]
  },
  {
   "cell_type": "code",
   "execution_count": null,
   "metadata": {},
   "outputs": [],
   "source": [
    "sns.pointplot(data=df, x='contrast_left', hue='contrast_right', y='response_type', dodge=True, errorbar=('ci', 95));"
   ]
  },
  {
   "cell_type": "markdown",
   "metadata": {},
   "source": [
    "Make 0% confidence intervals.  What do you expect to see?"
   ]
  },
  {
   "cell_type": "code",
   "execution_count": null,
   "metadata": {},
   "outputs": [],
   "source": [
    "sns.pointplot(data=df, x='contrast_left', hue='contrast_right', y='response_type', dodge=True, errorbar=('ci', 0));"
   ]
  },
  {
   "cell_type": "markdown",
   "metadata": {},
   "source": [
    "Make 25% confidence intervals.  What do you expect to see?"
   ]
  },
  {
   "cell_type": "code",
   "execution_count": null,
   "metadata": {},
   "outputs": [],
   "source": [
    "sns.pointplot(data=df, x='contrast_left', hue='contrast_right', y='response_type', dodge=True, errorbar=('ci', 25));"
   ]
  },
  {
   "cell_type": "markdown",
   "metadata": {},
   "source": [
    "Make 99% confidence intervals. What do you expect to see?"
   ]
  },
  {
   "cell_type": "code",
   "execution_count": null,
   "metadata": {},
   "outputs": [],
   "source": [
    "sns.pointplot(data=df, x='contrast_left', hue='contrast_right', y='response_type', dodge=True, errorbar=('ci', 99));"
   ]
  },
  {
   "cell_type": "markdown",
   "metadata": {},
   "source": [
    "Set the error bars to show one standard deviation (`sd`) of the data.  What do you notice about these errobars, compared to the ones made previously?"
   ]
  },
  {
   "cell_type": "code",
   "execution_count": null,
   "metadata": {},
   "outputs": [],
   "source": [
    "sns.pointplot(data=df, x='contrast_left', hue='contrast_right', y='response_type', dodge=True, errorbar=('sd', 1));"
   ]
  },
  {
   "cell_type": "markdown",
   "metadata": {},
   "source": [
    "Set the error bars to show three standard deviations of the data (roughly the full range of data's variation in the dataset, assuming normally-distributed data)"
   ]
  },
  {
   "cell_type": "code",
   "execution_count": null,
   "metadata": {},
   "outputs": [],
   "source": [
    "sns.pointplot(data=df, x='contrast_left', hue='contrast_right', y='response_type', dodge=True, errorbar=('sd', 3));"
   ]
  },
  {
   "cell_type": "markdown",
   "metadata": {},
   "source": [
    "Account for the number of observations by setting the error bars to show one \"Standard Error of the Mean\" (`se`)"
   ]
  },
  {
   "cell_type": "code",
   "execution_count": null,
   "metadata": {},
   "outputs": [],
   "source": [
    "sns.pointplot(data=df, x='contrast_left', hue='contrast_right', y='response_type', dodge=True, errorbar=('se', 1));"
   ]
  },
  {
   "cell_type": "markdown",
   "metadata": {},
   "source": [
    "Set the error bars to show two Standard Errors of the Mean, and compare this to the plot showing a 95% Confidence Interval.  What do you notice?"
   ]
  },
  {
   "cell_type": "code",
   "execution_count": null,
   "metadata": {},
   "outputs": [],
   "source": [
    "sns.pointplot(data=df, x='contrast_left', hue='contrast_right', y='response_type', dodge=True, errorbar=('se', 2));"
   ]
  },
  {
   "cell_type": "code",
   "execution_count": null,
   "metadata": {},
   "outputs": [],
   "source": [
    "sns.pointplot(data=df, x='contrast_left', hue='contrast_right', y='response_type', dodge=True, errorbar=('ci', 95));"
   ]
  },
  {
   "cell_type": "markdown",
   "metadata": {},
   "source": [
    "**(Extra)** Set the error bars to show 50% Intervals (`pi`).  What is strange about this plot?  Try setting it to different levels, and see what you get.  What does this indicate about the data? "
   ]
  },
  {
   "cell_type": "code",
   "execution_count": null,
   "metadata": {},
   "outputs": [],
   "source": [
    "sns.pointplot(data=df, x='contrast_left', hue='contrast_right', y='response_type', dodge=True, errorbar=('pi', 50));"
   ]
  },
  {
   "cell_type": "markdown",
   "metadata": {},
   "source": [
    "---\n",
    "\n",
    "## Analyzing Response Time and Response Type: Transforming and Filtering Data, and Comparing Estimates"
   ]
  },
  {
   "cell_type": "markdown",
   "metadata": {},
   "source": [
    "#### Making New Columns in Pandas DataFrames\n",
    "\n",
    "| Code | Description |\n",
    "| :-- | :-- | \n",
    "| **`df['column1']`** | Gets a column called \"column1\" from a DataFrame | \n",
    "| **`df['newcolumn'] = 3`** | Makes a new column called \"newcolumn\" and sets every row to 3 |\n",
    "| **`df['newcolumn'] = df['column1'] - 3`** | Makes a new column called \"newcolumn\", where every row is \"column1\" minus 3 |\n",
    "| **`df['newcolumn'] = df['column1'] + df['column2']`** | Makes a new column called \"newcolumn\", which is the sum of \"column1\" and \"column2\" |\n",
    "| **`df['newcolumn'] = df['column1'] > df['column2']`** | Makes a new column called \"newcolumn\", which is True where \"column1\" is greater than \"column2\" and False everywhere else |\n",
    "| **`df['newcolumn'] = df['column1'] != 5`** | Makes a new column called \"newcolumn\", which is True where \"column1\" is not equal to 5 |\n",
    "| **`df['newcolumn'] = df['column1'].abs()`** | Makes a new column called \"newcolumn\", which is the absolute value of \"column1\" |\n",
    "| **`new_df = df.copy()`** | Makes a copy of the dataframe (useful if you want to keep the old one unchanged) |\n"
   ]
  },
  {
   "cell_type": "markdown",
   "metadata": {},
   "source": [
    "**Exercises**: \n",
    "\n",
    "In the exercises below, let's practice making new columns in our Pandas DataFrame. We will then use the newly created column in the next set of analyses."
   ]
  },
  {
   "cell_type": "markdown",
   "metadata": {},
   "source": [
    "**Example**: How salient, overall, were the stimuli?  Make a new column called `\"contrast_total\"` that is the sum of the two stimuli's contrast levels."
   ]
  },
  {
   "cell_type": "code",
   "execution_count": null,
   "metadata": {},
   "outputs": [],
   "source": [
    "df['contrast_total'] = df['contrast_right'] + df['contrast_left']\n",
    "df.sample(3)"
   ]
  },
  {
   "cell_type": "markdown",
   "metadata": {},
   "source": [
    "The mice had to make a decision of whether to move the wheel left or right based on the *difference* in contrast between the left and right stimulus, not on the actual levels of the data.  Make a new column called `contrast_diff` that contains the contrast difference between the left and right stimuli.\n",
    "  "
   ]
  },
  {
   "cell_type": "code",
   "execution_count": null,
   "metadata": {},
   "outputs": [],
   "source": [
    "df[\"contrast_diff\"] = df[\"contrast_left\"] - df[\"contrast_right\"]"
   ]
  },
  {
   "cell_type": "markdown",
   "metadata": {},
   "source": [
    "The mice were not allowed to respond immediately after the stimuli appeared; instead, they had to wait for the \"go cue\" to appear, which was at a randomized time point after the stimuli.  Let's calculate the a new `response_time_corrected` column, which subtracts the `gocue_time` from the `response_time`."
   ]
  },
  {
   "cell_type": "code",
   "execution_count": null,
   "metadata": {},
   "outputs": [],
   "source": [
    "df['response_time_corrected'] = df['response_time'] - df['gocue_time']"
   ]
  },
  {
   "cell_type": "markdown",
   "metadata": {},
   "source": [
    "Instead of calculating the `contrast_diff`, let's calculate the `contrast_diff_absolute`, where the absolute value of the contrast difference is used, so it is always positive.  This more-closely shows the decision that the mice had to make, and allows us to use twice as many values for each point estimation."
   ]
  },
  {
   "cell_type": "code",
   "execution_count": null,
   "metadata": {},
   "outputs": [],
   "source": [
    "df['contrast_diff_absolute'] = df['contrast_diff'].abs()"
   ]
  },
  {
   "cell_type": "markdown",
   "metadata": {},
   "source": [
    "It's only useful to calculate the response time when the mice actually made a response!  Make a column called `did_responsd` that is True when the response_type column is not equal to 0."
   ]
  },
  {
   "cell_type": "code",
   "execution_count": null,
   "metadata": {},
   "outputs": [],
   "source": [
    "df['did_respond'] = df['response_type'] != 0"
   ]
  },
  {
   "cell_type": "markdown",
   "metadata": {},
   "source": [
    "### Plotting Response Times and Response Types: Comparing Different Point Estimate Functions\n",
    "\n",
    "##### Estimators \n",
    "\n",
    "Seaborn is a statistical plotting tool, so it gives you control over which statistics you want to plot!  To change which statistic (called an **\"estimate\"** by Seaborn) is used, set the **`estimator`** parameter to what you need.  Some common estimators like mean, median, and std are already built-in, so you can just write them as a string, but Seaborn will accept any statistics function you'd like it to use:\n",
    "\n",
    "| Estimator | Passing a String | Passing the Function Directly | \n",
    "| :-- | :--  | :-- |\n",
    "| Mean | **`estimator = 'mean'`** | **`estimator = np.mean`**|\n",
    "| Median | **`estimator = 'median'`** | **`estimator = np.median`**|\n",
    "| Standard Deviation | **`estimator = 'std'`** | **`estimator = np.std`** |\n",
    "\n",
    "This has a big effect on the plots.  Let's try it out!\n",
    "\n",
    "##### Multilevel Bootstrapping Error Bars Units\n",
    "\n",
    "If you have a nested structure to your study where observations are grouped (for example, in this study it is made up of sessions), then you should set `units=` to the grouping column; this gets you more-accurate estimates and errorbars that account for between-session varinance. "
   ]
  },
  {
   "cell_type": "markdown",
   "metadata": {},
   "source": [
    "**Exercises**:\n",
    "\n",
    " Let's see how the estimator used changes the information conveyed in a plot.  For each of the two measurements (response type and response time), which estimators do you think are the most valuable for this experiment?"
   ]
  },
  {
   "cell_type": "markdown",
   "metadata": {},
   "source": [
    "**Example**: For only the trials where the mouse responded, plot the `mean` response type for each stimulus contrast difference.  Account for the differences between sessions by setting `units` to session_id"
   ]
  },
  {
   "cell_type": "code",
   "execution_count": null,
   "metadata": {},
   "outputs": [],
   "source": [
    "sns.pointplot(data=df[df['did_respond']], x='contrast_diff', y='response_type', estimator='mean', units='session_id');"
   ]
  },
  {
   "cell_type": "markdown",
   "metadata": {},
   "source": [
    " Where did the response type vary the most?  For only the trials where the mouse responded, plot the `standard deviation` (std) of the response types for each stimulus contrast difference.  Account for the differences between sessions by setting `units` to session_id"
   ]
  },
  {
   "cell_type": "code",
   "execution_count": null,
   "metadata": {},
   "outputs": [],
   "source": [
    "sns.pointplot(data=df[df['did_respond']], x='contrast_diff', y='response_type', estimator='std', units='session_id');"
   ]
  },
  {
   "cell_type": "markdown",
   "metadata": {},
   "source": [
    "**Example**: Is there any relationship between how fast the mice responded and the difference in the contrast?\n",
    "\n",
    "For only the trials where the mouse responded, plot the `mean` corrected response time for each absolute stimulus contrast difference, using color to show the results for each response type.  Account for the differences between sessions by setting `units` to session_id"
   ]
  },
  {
   "cell_type": "code",
   "execution_count": null,
   "metadata": {},
   "outputs": [],
   "source": [
    "sns.pointplot(data=df[df['did_respond']], x='contrast_diff_absolute', hue='response_type', y='response_time_corrected', dodge=True, estimator=\"mean\", units='session_id');"
   ]
  },
  {
   "cell_type": "markdown",
   "metadata": {},
   "source": [
    "For only the trials where the mouse responded, plot the `median` corrected response time for each absolute stimulus contrast difference, using color to show the results for each response type.  Account for the differences between sessions by setting `units` to session_id"
   ]
  },
  {
   "cell_type": "code",
   "execution_count": null,
   "metadata": {},
   "outputs": [],
   "source": [
    "sns.pointplot(data=df[df['did_respond']], x='contrast_diff_absolute', hue='response_type', y='response_time_corrected', dodge=True, estimator=\"median\", units='session_id');"
   ]
  },
  {
   "cell_type": "markdown",
   "metadata": {},
   "source": [
    "For only the trials where the mouse responded, see where there was the most variance in respond time by plotting the `standard deviation` (std) of the corrected response times for each absolute stimulus contrast difference, using color to show the results for each response type.  Account for the differences between sessions by setting `units` to session_id"
   ]
  },
  {
   "cell_type": "code",
   "execution_count": null,
   "metadata": {},
   "outputs": [],
   "source": [
    "sns.pointplot(data=df[df['did_respond']], x='contrast_diff_absolute', hue='response_type', y='response_time_corrected', dodge=True, estimator=\"std\", units='session_id');"
   ]
  },
  {
   "cell_type": "markdown",
   "metadata": {},
   "source": [
    "## (Demo) Wrapping it Up: Exporting a Figure\n",
    "\n",
    "Below is an example of how to export our two main results into a single figure with two subplots, then save it as a file (say, for a poster presentation).  "
   ]
  },
  {
   "cell_type": "code",
   "execution_count": null,
   "metadata": {},
   "outputs": [],
   "source": [
    "plt.style.available "
   ]
  },
  {
   "cell_type": "markdown",
   "metadata": {},
   "source": [
    "**Example**: Run the plot below to see it all put togther, along with subplots and explicit titles and labels; feel free to modify the code (especially the `style='ggplot' part`!)"
   ]
  },
  {
   "cell_type": "code",
   "execution_count": null,
   "metadata": {},
   "outputs": [],
   "source": [
    "# Figure 1b\n",
    "import matplotlib.pyplot as plt\n",
    "\n",
    "with plt.style.context(style='ggplot', after_reset=True):\n",
    "\n",
    "    plt.figure(figsize=(16, 7))  # changing the figure size is an quick-and-dirty way to change the font size\n",
    "\n",
    "    # Subplot 1\n",
    "    plt.subplot(1, 2, 1)\n",
    "\n",
    "    df['contrast_diff'] = df['contrast_right'] - df['contrast_left']\n",
    "    mask = df['response_type'] != 0\n",
    "    sns.pointplot(data=df[mask], x='contrast_diff', y='response_type', color='dimgrey', units='session_id', n_boot=300);\n",
    "    plt.title('Performance Reaches >80%\\nAbove a 50% Difference in Contrast')\n",
    "    plt.xlabel('Contrast Difference (%)')\n",
    "    plt.ylabel(\"Response Type\")\n",
    "\n",
    "    # Subplot 2\n",
    "    plt.subplot(1, 2, 2)\n",
    "\n",
    "    mask = df['response_type'] != 0\n",
    "    df['contrast_diff_absolute'] = df['contrast_diff'].abs()\n",
    "    sns.pointplot(\n",
    "        data=df[mask].astype({'response_type': 'category'}), \n",
    "        x='contrast_diff_absolute', y='response_time_corrected',\n",
    "        hue='response_type', \n",
    "        units='session_id', \n",
    "        dodge=True,\n",
    "        n_boot=300,\n",
    "    );\n",
    "    plt.title('Response Time Decreases as \\n Stimulus Contrast Difference Increases', )\n",
    "    plt.xlabel('Absolute Contrast Difference (%)')\n",
    "    plt.ylabel(\"Response Time after Go Cue\")\n",
    "    plt.legend(title=\"Response Type\", frameon=False);\n",
    "\n",
    "    # Correct the spacing between subplots, to fix some kinds of accidental overlap.\n",
    "    plt.tight_layout()\n",
    "\n",
    "    # Save the figure \n",
    "    # plt.savefig('performance.svg', dpi=200)  # for editing later in a vector graphics editor (i.e. Inkscape, Adobe Illustrator)\n",
    "    plt.savefig('performance.png', dpi=200)  \n"
   ]
  }
 ],
 "metadata": {
  "kernelspec": {
   "display_name": "datascience1",
   "language": "python",
   "name": "python3"
  },
  "language_info": {
   "codemirror_mode": {
    "name": "ipython",
    "version": 3
   },
   "file_extension": ".py",
   "mimetype": "text/x-python",
   "name": "python",
   "nbconvert_exporter": "python",
   "pygments_lexer": "ipython3",
   "version": "3.11.5"
  }
 },
 "nbformat": 4,
 "nbformat_minor": 2
}
