{
 "cells": [
  {
   "cell_type": "code",
   "execution_count": null,
   "id": "85d93a0f-a0ff-456b-b523-8dd567dd4e9a",
   "metadata": {},
   "outputs": [],
   "source": [
    "%pip install --upgrade xarray numpy matplotlib pandas seaborn pingouin"
   ]
  },
  {
   "cell_type": "code",
   "execution_count": 1,
   "id": "379a038d-c5d8-4ced-af25-7bd589f48300",
   "metadata": {},
   "outputs": [],
   "source": [
    "# Ignore future warnings\n",
    "import warnings\n",
    "warnings.simplefilter(action='ignore', category=FutureWarning)\n",
    "\n",
    "# import external packages\n",
    "import xarray as xr\n",
    "import pandas as pd\n",
    "import seaborn as sns\n",
    "import pingouin as pg\n",
    "import matplotlib.pyplot as plt\n",
    "\n",
    "# Add path with self-created packages and import them\n",
    "import sys\n",
    "sys.path.append('./src')\n",
    "import sciebo"
   ]
  },
  {
   "cell_type": "markdown",
   "id": "05339bc5",
   "metadata": {},
   "source": [
    "# Pupil Position Analysis with Pandas and Pingouin\n",
    "In the experiments reported by [Steinmetz et al, 2019 in Nature](https://www.nature.com/articles/s41586-019-1787-x), mice performed a discrimination task where they moved the position of a stimulus using a steering wheel. During the experiment, a camera recorded the pupil position of the subject in the x and y directions.\n",
    "\n",
    "##### Analysis Goals\n",
    "In this notebook we will be analyzing the pupil position with statistical tests.\n",
    "\n",
    "##### Learning Goals\n",
    "We will explore the [**pingouin**](https://pingouin-stats.org/build/html/index.html) Python package to perform statistical tests like correlation analysis and t-test, and we will end by exploring more of [**Seaborn**](https://seaborn.pydata.org/)'s visualization functions.\n"
   ]
  },
  {
   "cell_type": "markdown",
   "id": "eb5fc288",
   "metadata": {},
   "source": [
    "---"
   ]
  },
  {
   "cell_type": "markdown",
   "id": "4e160758",
   "metadata": {},
   "source": [
    "### Download the dataset and load it into a Pandas DataFrame"
   ]
  },
  {
   "cell_type": "code",
   "execution_count": 7,
   "id": "2edca2cc-c36b-4ce3-9522-bdc9bb9f5095",
   "metadata": {},
   "outputs": [],
   "source": [
    "sciebo.download_from_sciebo('https://uni-bonn.sciebo.de/s/3Uf2gScrvuTPQhB', 'data/steinmetz_2017-01-08_Muller.nc')"
   ]
  },
  {
   "cell_type": "markdown",
   "id": "20929387",
   "metadata": {},
   "source": [
    "Let's now use the Xarray package to load the netCDF file that we downloaded and create a Pandas Dataframe containing only \"active\" trials."
   ]
  },
  {
   "cell_type": "markdown",
   "id": "e78f4dcc",
   "metadata": {},
   "source": [
    "Load the dataset using the `load_dataset` function from Xarray."
   ]
  },
  {
   "cell_type": "code",
   "execution_count": 2,
   "id": "5ca39c9c",
   "metadata": {},
   "outputs": [],
   "source": [
    "dset = xr.load_dataset('data/steinmetz_2017-01-08_Muller.nc')"
   ]
  },
  {
   "cell_type": "markdown",
   "id": "aec95a04",
   "metadata": {},
   "source": [
    "Create a Pandas Dataframe from some of the variable we are going to need for the analysis in this notebook."
   ]
  },
  {
   "cell_type": "code",
   "execution_count": 3,
   "id": "30379e2c",
   "metadata": {},
   "outputs": [],
   "source": [
    "variables_for_analysis = ['pupil_x', 'pupil_y', 'contrast_left', 'contrast_right', 'wheel', 'response_type', 'active_trials']\n",
    "df = dset[variables_for_analysis].to_dataframe().reset_index()\n",
    "df"
   ]
  },
  {
   "cell_type": "markdown",
   "id": "66bed9b3",
   "metadata": {},
   "source": [
    "Use the `'active_trials'` column to only keep rows for active trials."
   ]
  },
  {
   "cell_type": "code",
   "execution_count": 4,
   "id": "7e37a806",
   "metadata": {},
   "outputs": [],
   "source": [
    "active_trials = df['active_trials']\n",
    "df = df[active_trials]\n",
    "df"
   ]
  },
  {
   "cell_type": "markdown",
   "id": "1e24d43c",
   "metadata": {},
   "source": [
    "---"
   ]
  },
  {
   "cell_type": "markdown",
   "id": "7e7adaf3",
   "metadata": {},
   "source": [
    "## Regression Analysis\n",
    "\n",
    "Regression analysis helps us uncover simple relationships within complex data. For instance, consider a scenario where a mouse is turning the wheel to the left. Then we would likely expect its eyes to follow in the same direction. We can explore this potential link using regression plots, which pairs the wheel's speed with the eye movement, pinpointing a trend via the best fitting line.\n",
    "\n",
    "Key insights from the regression plot are summarized by:\n",
    "- The `r` value: It measures the strength and direction of a linear relationship between the two variables. An `r` of -1 or 1 indicates a perfect linear correlation, either negative or positive, respectively, while an `r` of 0 signals no linear correlation.\n",
    "- The `p-val`: This tells us the probability that any observed correlation in the data occurred by chance. A low `p-val` suggests that the observed correlation is statistically significant, and we can reject the null hypothesis of no relationship.\n",
    "\n",
    "In the following exercises, we'll employ Pandas to organize our data, Seaborn to craft our plots, and Pingouin to quantify correlations.\n",
    "\n",
    "\n",
    "**Pandas**\n",
    "\n",
    "| Code                                 | Description                                                     |\n",
    "|--------------------------------------|-----------------------------------------------------------------|\n",
    "| `df[df['column_name'] == 6]`         | Select rows of the DataFrame where `column_name` is equal to 6  |\n",
    "\n",
    "**Seaborn**\n",
    "\n",
    "| Code                                          | Description                                                                |\n",
    "|-----------------------------------------------|----------------------------------------------------------------------------|\n",
    "| `sns.regplot(data=df, x='column1', y='column2')` | Make a regression plot with columns `column1` and `column2` from DataFrame `df` |\n",
    "| `sns.scatterplot(data=df, x='column1', y='column2')` | Make a scatterplot with columns `column1` and `column2` from DataFrame `df` |\n",
    "\n",
    "\n",
    "**Pingouin**\n",
    "\n",
    "| Code                      | Description                                               |\n",
    "|---------------------------|-----------------------------------------------------------|\n",
    "| `pg.corr(x_data, y_data)` | Calculate the correlation between two variables `x_data` and `y_data` |"
   ]
  },
  {
   "cell_type": "markdown",
   "id": "92afd328-7003-43c1-b16c-954af7776052",
   "metadata": {},
   "source": [
    "**Exercises**"
   ]
  },
  {
   "cell_type": "markdown",
   "id": "fa3f6d2f-0b2c-4b97-94a0-d34a08978940",
   "metadata": {},
   "source": [
    "**Example**: Select the data for trial 37 and make a regression plot of `pupil_x` vs `wheel`.  Do you think there is a correlation between wheel speed and pupil's x position? "
   ]
  },
  {
   "cell_type": "code",
   "execution_count": 5,
   "id": "a966f40f-52eb-4f1e-90ad-f538846ef16f",
   "metadata": {},
   "outputs": [],
   "source": [
    "# Select the rows for trial 37 only\n",
    "df_37 = df[df['trial']==37]\n",
    "\n",
    "# Use Seaborn's regplot to create a regression plot\n",
    "sns.regplot(data=df_37, x='pupil_x', y='wheel')\n",
    "\n",
    "# Use Pingouin to quiantify the correlation between the two variables\n",
    "pg.corr(df_37['pupil_x'], df_37['wheel'])"
   ]
  },
  {
   "cell_type": "markdown",
   "id": "d485f1bf-37ab-4c09-ae51-28530bcd60b1",
   "metadata": {},
   "source": [
    "Now let's make the same regression plot for trial 11. Do you think there is a correlation between wheel speed and pupil position?"
   ]
  },
  {
   "cell_type": "code",
   "execution_count": 6,
   "id": "cd63b255-b76a-4baa-8523-8f77fecada82",
   "metadata": {},
   "outputs": [],
   "source": []
  },
  {
   "cell_type": "markdown",
   "id": "af728c33",
   "metadata": {},
   "source": [
    "Is there some relationship between the x position and the y position of the pupil, say in trial 13?"
   ]
  },
  {
   "cell_type": "code",
   "execution_count": 7,
   "id": "d33b1caf",
   "metadata": {},
   "outputs": [],
   "source": []
  },
  {
   "cell_type": "markdown",
   "id": "3edf8070",
   "metadata": {},
   "source": [
    "Let's now get some practice changing different aspects of the regression plot.\n",
    "\n",
    "Create a regression plot between  the above plot but with the color set to black."
   ]
  },
  {
   "cell_type": "code",
   "execution_count": 8,
   "id": "7e284786",
   "metadata": {},
   "outputs": [],
   "source": []
  },
  {
   "cell_type": "markdown",
   "id": "ec1ab3da",
   "metadata": {},
   "source": [
    "Let's make the line stand out. We can control the properties of the line by setting the `line_kws` argument in the `sns.regplot`:\n",
    "\n",
    "```python\n",
    "line_properties = {\n",
    "    'property_1': 'value_1',\n",
    "    'property_2': 'value_2',\n",
    "}\n",
    "sns.regplot(..., line_kws=line_properties)\n",
    "```\n",
    "\n",
    "**Example:** Re-create the previous plot with the line in `red` and the points in `black`.\n"
   ]
  },
  {
   "cell_type": "code",
   "execution_count": 9,
   "id": "686c264c",
   "metadata": {},
   "outputs": [],
   "source": [
    "dd = df[df['trial']==13]\n",
    "\n",
    "line_properties = {\n",
    "    'color':'red',  # setting the color of the line to red\n",
    "}\n",
    "sns.regplot(data=dd, x='pupil_x', y='pupil_y', color='black', line_kws=line_properties)\n",
    "\n",
    "pg.corr(dd['pupil_x'], dd['pupil_y'])"
   ]
  },
  {
   "cell_type": "markdown",
   "id": "4b9b2ef7",
   "metadata": {},
   "source": [
    "So far, our regression plot showed us the best linear relationship in the data. What about a nonlinear relationship? Seaborn also allows us to fit polynomials by passing the `order` keyword into `regplot` 🎉\n",
    "\n",
    "**Example:** Create a regression plot of pupils x and y position in trial 13, with a fit of `order` 2."
   ]
  },
  {
   "cell_type": "code",
   "execution_count": 10,
   "id": "4d117aed",
   "metadata": {},
   "outputs": [],
   "source": [
    "dd = df[df['trial']==13]\n",
    "\n",
    "sns.regplot(data=dd, x='pupil_x', y='pupil_y', order=2)\n",
    "\n",
    "pg.corr(dd['pupil_x'], dd['pupil_y'])"
   ]
  },
  {
   "cell_type": "markdown",
   "id": "6bae7d4c",
   "metadata": {},
   "source": [
    "Create a regression plot of pupils x and y position in trial 1, with a fit of `order` 2."
   ]
  },
  {
   "cell_type": "code",
   "execution_count": 27,
   "id": "dccc16dc",
   "metadata": {},
   "outputs": [],
   "source": []
  },
  {
   "cell_type": "markdown",
   "id": "256853f3",
   "metadata": {},
   "source": [
    "Create a regression plot of pupils x and y position in trial 1, with a fit of `order` 3."
   ]
  },
  {
   "cell_type": "code",
   "execution_count": 30,
   "id": "d262ce3d",
   "metadata": {},
   "outputs": [],
   "source": []
  },
  {
   "cell_type": "markdown",
   "id": "79dd29f0",
   "metadata": {},
   "source": [
    "While the regression plot is focusing on fitting a line to the data, we can also just visualize the data without a line using Seaborn's `scatterplot`.\n",
    "\n",
    "**Example:** Make a scatterplot of pupil's x position vs pupil's y position, for trial 11."
   ]
  },
  {
   "cell_type": "code",
   "execution_count": 31,
   "id": "e8014ca0",
   "metadata": {},
   "outputs": [],
   "source": [
    "dd = df[df['trial']==11]\n",
    "sns_plot = sns.scatterplot(data=dd, x='pupil_x', y='pupil_y')"
   ]
  },
  {
   "cell_type": "markdown",
   "id": "a77fec5c",
   "metadata": {},
   "source": [
    "Make a scatterplot of pupil's x position vs pupil's y position, for trial 1."
   ]
  },
  {
   "cell_type": "code",
   "execution_count": 33,
   "id": "ff3e2a6e",
   "metadata": {},
   "outputs": [],
   "source": []
  },
  {
   "cell_type": "markdown",
   "id": "4e9f306a",
   "metadata": {},
   "source": [
    "The pupil position in trial 1 has an interesting structure. Could there be some time-dependency here? For instance, is one cloud (or cluster) happening earlier in the trial while the other happens later?\n",
    "\n",
    "Let's recreate the previous plot, but color the points based on the time, by setting the `hue` argument to `'time'`."
   ]
  },
  {
   "cell_type": "code",
   "execution_count": 34,
   "id": "dca82404",
   "metadata": {},
   "outputs": [],
   "source": []
  },
  {
   "cell_type": "markdown",
   "id": "b0dcb465",
   "metadata": {},
   "source": [
    "Alright, now let's go back to regression plots, but let's bring in some of the categorical variables into the analysis. For example, there could be some relationships between pupil's x and y direction the mouse's response (i.e. right turn, left turn, ro no turn). \n",
    "\n",
    "To do this, we can use seaborn's `lmplot` which is very similar to the `regplot`, but allows us to integrate categorical variables in our plotting. \n",
    "\n",
    "**Example:** Create a regression plot for pupil's x position vs the y position, for every response type. To do this, we can set the `col` argument of `lmplot` to `\"response_type\"`."
   ]
  },
  {
   "cell_type": "code",
   "execution_count": 44,
   "id": "76f40ccb",
   "metadata": {},
   "outputs": [],
   "source": [
    "sns.lmplot(data=df, x='pupil_x', y='pupil_y', order=2, col='response_type')"
   ]
  },
  {
   "cell_type": "markdown",
   "id": "fa7d69c1",
   "metadata": {},
   "source": [
    "---"
   ]
  },
  {
   "cell_type": "markdown",
   "id": "8efaca15",
   "metadata": {},
   "source": [
    "## Visualizing and Comparing Two Sets of Data: Histograms and T-test\n",
    "\n",
    "In data analysis, we often compare measurements, asking questions like \"Is the measurement from sample x typically larger than sample y, and by how much?\". When we have two sets of data, we can assess whether they are statistically similar and get a qualitative answer using a t-test.\n",
    "\n",
    "In this section we will make histograms to visualise dsitributions of pupil position and employ the t-test to compare them between trials.\n",
    "\n",
    "When conducting a t-test, two key values are calculated to interpret the results:\n",
    "\n",
    "- The `T` value: Indicates the degree of difference between the samples. A T value close to zero implies a high degree of similarity.\n",
    "- The `p-val`: Evaluates the likelihood that the observed differences are due to chance. A high p-value indicates no significant difference, suggesting the samples may come from the same population.\n",
    "\n",
    "We will use seaborn to visualize the distribution of our data and  Pingouin to perform the t-test.\n",
    "\n",
    "**Seaborn**\n",
    "\n",
    "| Code                                  | Description                                          |\n",
    "|---------------------------------------|------------------------------------------------------|\n",
    "| `sns.histplot(data=df, x='column1')`  | Create a histogram for `column1` from DataFrame `df`. |\n",
    "| `sns.kdeplot(data=df, x='column1')`   | Create a KDE plot for `column1` from DataFrame `df`.  |\n",
    "\n",
    "**Pingouin**\n",
    "\n",
    "| Code                          | Description                                               |\n",
    "|-------------------------------|-----------------------------------------------------------|\n",
    "| `pg.ttest(data1, data2)`      | Perform a t-test on two datasets `data1` and `data2`.      |"
   ]
  },
  {
   "cell_type": "markdown",
   "id": "bbbdfa53",
   "metadata": {},
   "source": [
    "**Exercises**"
   ]
  },
  {
   "cell_type": "markdown",
   "id": "2caaf246",
   "metadata": {},
   "source": [
    "Let's start by visualizing the distribution of pupil position.\n",
    "\n",
    "**Example:** Make a histogram of the pupil x positions of trial 50."
   ]
  },
  {
   "cell_type": "code",
   "execution_count": 46,
   "id": "01dfcbc9",
   "metadata": {},
   "outputs": [],
   "source": [
    "df_50 = df[df['trial']==50]\n",
    "sns.histplot(data=df_50, x='pupil_x')"
   ]
  },
  {
   "cell_type": "markdown",
   "id": "0fde6b2e",
   "metadata": {},
   "source": [
    "Make the same histogram but with `stat` argument set to `\"probability\"`. What has changed in the plot?"
   ]
  },
  {
   "cell_type": "code",
   "execution_count": 47,
   "id": "202e72cb",
   "metadata": {},
   "outputs": [],
   "source": []
  },
  {
   "cell_type": "markdown",
   "id": "d10d080b",
   "metadata": {},
   "source": [
    "We can plot two histograms together by calling the plotting function twice.\n",
    "\n",
    "**Example:** Make histograms of pupil x positions for trials 9 and 17."
   ]
  },
  {
   "cell_type": "code",
   "execution_count": 84,
   "id": "4817f102",
   "metadata": {},
   "outputs": [],
   "source": [
    "df_9 = df[df['trial']==9]\n",
    "df_17 = df[df['trial']==17]\n",
    "\n",
    "sns.histplot(data=df_9, x='pupil_x')\n",
    "sns.histplot(data=df_17, x='pupil_x')"
   ]
  },
  {
   "cell_type": "markdown",
   "id": "d83577bf",
   "metadata": {},
   "source": [
    "Make histograms of pupil x positions for trials 12 and 13."
   ]
  },
  {
   "cell_type": "code",
   "execution_count": 83,
   "id": "c8228dae",
   "metadata": {},
   "outputs": [],
   "source": []
  },
  {
   "cell_type": "markdown",
   "id": "c594cde3",
   "metadata": {},
   "source": [
    "Now let's compare these two distributions using a t-test.\n",
    "\n",
    "**Example:** Make histograms of pupil x positions for trials 12 and 13, and perform a t-test using Pingouin's `ttest` function so assess their similarity."
   ]
  },
  {
   "cell_type": "code",
   "execution_count": 86,
   "id": "f739c491",
   "metadata": {},
   "outputs": [],
   "source": [
    "df_12 = df[df['trial']==12]\n",
    "df_13 = df[df['trial']==13]\n",
    "\n",
    "sns.histplot(data=df_12, x='pupil_x')\n",
    "sns.histplot(data=df_13, x='pupil_x')\n",
    "\n",
    "pg.ttest(df_12['pupil_x'], df_13['pupil_x'])"
   ]
  },
  {
   "cell_type": "markdown",
   "id": "a8b48213",
   "metadata": {},
   "source": [
    "Do the same analysis for trials 9 and 17."
   ]
  },
  {
   "cell_type": "code",
   "execution_count": 88,
   "id": "aadc0eef",
   "metadata": {},
   "outputs": [],
   "source": []
  },
  {
   "cell_type": "markdown",
   "id": "bc2fac6a",
   "metadata": {},
   "source": [
    "Do the same analysis for trials 17 and 50."
   ]
  },
  {
   "cell_type": "code",
   "execution_count": null,
   "id": "fb1b7e34",
   "metadata": {},
   "outputs": [],
   "source": []
  },
  {
   "cell_type": "markdown",
   "id": "8f15bf77",
   "metadata": {},
   "source": [
    "As a sanity check, let's do a t-test comparing the pupil x positions of trial 50 with itself."
   ]
  },
  {
   "cell_type": "code",
   "execution_count": null,
   "id": "283afaf6",
   "metadata": {},
   "outputs": [],
   "source": []
  },
  {
   "cell_type": "markdown",
   "id": "fe15934c",
   "metadata": {},
   "source": [
    "Now, let's explore some of the arguments of the histogram plotting function to refine the visualization. For instance, we can alter the histogram binning by providing several options to `sns.histplot`, for example `binwidth`.\n",
    "\n",
    "Recreate the plot for trials 9 and 17, but this time setting `binwidth` to 0.01."
   ]
  },
  {
   "cell_type": "code",
   "execution_count": 117,
   "id": "bbd04172",
   "metadata": {},
   "outputs": [],
   "source": [
    "df_9 = df[df['trial']==9]\n",
    "df_17 = df[df['trial']==17]\n",
    "\n",
    "sns.histplot(data=df_9, x='pupil_x', binwidth=0.01)\n",
    "sns.histplot(data=df_17, x='pupil_x', binwidth=0.01)"
   ]
  },
  {
   "cell_type": "markdown",
   "id": "4ebba965",
   "metadata": {},
   "source": [
    "Let's also give each histogram a specific color of our choosing. Maybe `\"darkred\"` and `\"black\"`.<br>\n",
    "We can do this by setting the `color` argument of the `histplot`."
   ]
  },
  {
   "cell_type": "code",
   "execution_count": 113,
   "id": "fe1fc5a5",
   "metadata": {},
   "outputs": [],
   "source": []
  },
  {
   "cell_type": "markdown",
   "id": "23099f46",
   "metadata": {},
   "source": [
    "**Example:** Let's label each histogram and give our figure a legend. "
   ]
  },
  {
   "cell_type": "code",
   "execution_count": 120,
   "id": "9b5cde68",
   "metadata": {},
   "outputs": [],
   "source": [
    "sns.histplot(data=df_9, x='pupil_x', binwidth=0.01, color='darkred', label='DF 9')\n",
    "sns.histplot(data=df_17, x='pupil_x', binwidth=0.01, color='black', label='DF 17')\n",
    "plt.legend()"
   ]
  },
  {
   "cell_type": "markdown",
   "id": "415fe40a",
   "metadata": {},
   "source": [
    "**Note** that to add the legend to the figure we are using `plt.legend()`.<br>\n",
    "`plt`, which is the name we gave to the Matplotlib package when importing it, is a fantanstic plotting library that allows you to customize your plots in quite some detail. Seaborn is build on top of matplotlib, which is why they can interact with each other."
   ]
  },
  {
   "cell_type": "markdown",
   "id": "b03780c7",
   "metadata": {},
   "source": [
    "##### KDE plots\n",
    "Unlike a histogram that shows frequency through discrete bins, a KDE (Kernel Density Estimate) provides a smooth curve that offers a continuous and clear estimate of the distribution.\n",
    "\n",
    "Let's add a KDE plot to our existing figure, by setting the `kde` argument to `True`."
   ]
  },
  {
   "cell_type": "code",
   "execution_count": 119,
   "id": "e0eb657a",
   "metadata": {},
   "outputs": [],
   "source": []
  },
  {
   "cell_type": "markdown",
   "id": "caab778b",
   "metadata": {},
   "source": [
    "You can also only have a KDE plot without a histogram by using Seaborn's kde plot. Let's create the same plot as we created in the last step, but without the histogram."
   ]
  },
  {
   "cell_type": "code",
   "execution_count": 118,
   "id": "e98d538b",
   "metadata": {},
   "outputs": [],
   "source": []
  },
  {
   "cell_type": "markdown",
   "id": "e0b2475d",
   "metadata": {},
   "source": [
    "---"
   ]
  },
  {
   "cell_type": "markdown",
   "id": "593058ab",
   "metadata": {},
   "source": [
    "## A Gallery of Plots : 2D Histograms\n",
    "\n",
    "We have explored histograms in depth, now it's time to take a look at 2D Histograms. \n",
    "\n",
    "The seaborn provides the `jointplot` which produces a rich variety of 2D histograms. \n",
    "\n",
    "Let's visualise the pupil position data with `jointplot`.\n"
   ]
  },
  {
   "cell_type": "markdown",
   "id": "38d44d09",
   "metadata": {},
   "source": [
    "Make a `jointplot` showing the pupil x and y data of trial 13"
   ]
  },
  {
   "cell_type": "code",
   "execution_count": 57,
   "id": "373336ba",
   "metadata": {},
   "outputs": [],
   "source": [
    "df_13 = df[df['trial']==13]\n",
    "sns.jointplot(df_13, x=\"pupil_x\", y=\"pupil_y\")"
   ]
  },
  {
   "cell_type": "markdown",
   "id": "a3382e89",
   "metadata": {},
   "source": [
    "We can split the data according to `response_type` via the `hue` option. \n",
    "\n",
    "Make a 2D histogram of the pupil positions for all trials where the data is separated according to `response_type`"
   ]
  },
  {
   "cell_type": "code",
   "execution_count": 58,
   "id": "23ae2c5f",
   "metadata": {},
   "outputs": [],
   "source": [
    "sns.jointplot(df, x=\"pupil_x\", y=\"pupil_y\", hue='response_type')"
   ]
  },
  {
   "cell_type": "markdown",
   "id": "50494948",
   "metadata": {},
   "source": [
    "The type of 2D histogram can be altered by provinding the keyword `kind`\n",
    "\n",
    "Make a 2D histogram of the pupil positions for trial 13 with `kind='kde'`"
   ]
  },
  {
   "cell_type": "code",
   "execution_count": 59,
   "id": "e8b98463",
   "metadata": {},
   "outputs": [],
   "source": [
    "df_13 = df[df['trial']==13]\n",
    "sns.jointplot(df_13, x=\"pupil_x\", y=\"pupil_y\", kind= 'kde')"
   ]
  },
  {
   "cell_type": "markdown",
   "id": "a9522d2c",
   "metadata": {},
   "source": [
    "Recreate the above plot with `kind='hex'`"
   ]
  },
  {
   "cell_type": "code",
   "execution_count": 60,
   "id": "94c250ba",
   "metadata": {},
   "outputs": [],
   "source": [
    "df_13 = df[df['trial']==13]\n",
    "sns.jointplot(df_13, x=\"pupil_x\", y=\"pupil_y\", kind= 'hex')"
   ]
  },
  {
   "cell_type": "markdown",
   "id": "b120bb87",
   "metadata": {},
   "source": [
    "Make a final plot with a different `kind`. **Hint** - use `sns.jointplot?` to find out what kinds are available."
   ]
  },
  {
   "cell_type": "code",
   "execution_count": null,
   "id": "9aa98895",
   "metadata": {},
   "outputs": [],
   "source": [
    "sns.jointplot(df, x=\"pupil_x\", y=\"pupil_y\", kind= 'resid')"
   ]
  }
 ],
 "metadata": {
  "kernelspec": {
   "display_name": "Python 3 (ipykernel)",
   "language": "python",
   "name": "python3"
  },
  "language_info": {
   "codemirror_mode": {
    "name": "ipython",
    "version": 3
   },
   "file_extension": ".py",
   "mimetype": "text/x-python",
   "name": "python",
   "nbconvert_exporter": "python",
   "pygments_lexer": "ipython3",
   "version": "3.11.5"
  }
 },
 "nbformat": 4,
 "nbformat_minor": 5
}
