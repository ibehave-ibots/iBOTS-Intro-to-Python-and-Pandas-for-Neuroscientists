{
 "cells": [
  {
   "cell_type": "code",
   "execution_count": 1,
   "id": "c0b0e984",
   "metadata": {},
   "outputs": [],
   "source": [
    "# %pip install --upgrade xarray seaborn pandas numpy requests tqdm"
   ]
  },
  {
   "cell_type": "code",
   "execution_count": 1,
   "id": "1dc676ff",
   "metadata": {},
   "outputs": [],
   "source": [
    "# Ignore future warnings\n",
    "import warnings\n",
    "warnings.simplefilter(action='ignore', category=FutureWarning)\n",
    "\n",
    "import xarray as xr\n",
    "import numpy as np\n",
    "import pandas as pd\n",
    "import seaborn as sns\n",
    "import matplotlib.pyplot as plt "
   ]
  },
  {
   "cell_type": "markdown",
   "id": "ccfa2a3d",
   "metadata": {},
   "source": [
    "# ERP Analysis With Pandas And Seaborn"
   ]
  },
  {
   "cell_type": "markdown",
   "id": "b1c1d979",
   "metadata": {},
   "source": [
    "## Overview\n",
    "\n",
    "We will continue to use [Steinmetz et al, 2019 in Nature](https://www.nature.com/articles/s41586-019-1787-x) dataset. The experiment involved a mouse being presented with two gradients of varying intensities. The mouse's task was to adjust a wheel to center the brighter gradient on the screen. Simultaneously, Local Field Potential (LFP) measurements were recorded across various brain areas. These measurements were taken 250 times in 2.5 seconds, with data collected at 0.01-second intervals. \n",
    "\n",
    "\n",
    "**Analysis goals**\n",
    "\n",
    "In these exercises, our primary objective is to analyze and visualize Local Field Potential (LFP) data collected from distinct brain regions separately. Through this analysis, we aim to:\n",
    "  - compute trial statistics on LFP amplitudes (e.g. mean, min, max)\n",
    "  - compare these statistics between different brain areas\n",
    "  \n",
    "\n",
    "**Learning goals**\n",
    "\n",
    "In this notebook, we'll focus on learning Seaborn's:\n",
    "  - `sns.catplot()` funciton for categorical plots\n",
    "  - `sns.lineplot()` function for plotting time series models\n",
    "  - `sns.relplot()` for making faceted rows and columns of data of figures effectively using relplot and\n",
    "  - `sns.heatmap()` for using colors to compare trends."
   ]
  },
  {
   "cell_type": "markdown",
   "id": "c3b7293e",
   "metadata": {},
   "source": [
    "---"
   ]
  },
  {
   "cell_type": "markdown",
   "id": "7c336ba0",
   "metadata": {},
   "source": [
    "#### Download the dataset"
   ]
  },
  {
   "cell_type": "code",
   "execution_count": 2,
   "id": "031c724a",
   "metadata": {},
   "outputs": [],
   "source": [
    "from pathlib import Path\n",
    "import requests\n",
    "from tqdm import tqdm\n",
    "\n",
    "def download_from_sciebo(public_url, to_filename, is_file=True):\n",
    "    \"\"\"\n",
    "    Downloads a file or folder from a shared URL on Sciebo.\n",
    "    \"\"\"\n",
    "    # Create the folder if a longer path was described\n",
    "    path = Path(to_filename)\n",
    "    if len(path.parts) > 1:\n",
    "        Path(to_filename).parent.mkdir(parents=True, exist_ok=True)\n",
    "\n",
    "    r = requests.get(public_url + \"/download\", stream=True)\n",
    "\n",
    "    if 'Content-Length' in r.headers and is_file:\n",
    "        total_size = int(r.headers['Content-Length'])\n",
    "        progress_bar = tqdm(desc=f\"Downloading {to_filename}\", unit='B', unit_scale=True, total=total_size)\n",
    "    else:\n",
    "        progress_bar = None\n",
    "\n",
    "    with open(to_filename, 'wb') as f:\n",
    "        for chunk in r.iter_content(chunk_size=8192):\n",
    "            f.write(chunk)\n",
    "            if progress_bar:\n",
    "                progress_bar.update(len(chunk))\n",
    "\n",
    "    if progress_bar:\n",
    "        progress_bar.close()\n",
    "\n",
    "download_from_sciebo('https://uni-bonn.sciebo.de/s/JFeueaaWCTVhTZh', 'data/steinmetz_2016-12-14_Cori.nc')"
   ]
  },
  {
   "cell_type": "markdown",
   "id": "cfa76ed3",
   "metadata": {},
   "source": [
    "---\n",
    "## Extracting Data from XArray Datasets into Tidy DataFrames\n",
    "### Load Dataset\n",
    "\n",
    "In this section, we'll work with a dataset from a single session recording of Cori the mouse 🐁 ('steinmetz_2016-12-14_Cori.nc'). \n",
    "\n",
    "Our primary objective is to read this data and convert it into a Pandas dataframe, which will serve as the foundation for the subsequent exercises.\n",
    "\n",
    "**Load dataset and convert to Pandas dataframe:**\n",
    "\n",
    "| Method/Code                                             | Description                                                                   |\n",
    "|--------------------------------------------------------|-------------------------------------------------------------------------------|\n",
    "| `dset = xr.load_dataset(\"path/to/file/like/this.nc\")` | Loads the dataset from the specified file path using xarray (`xr`).      |\n",
    "| `df = dset['column1'].to_dataframe()`                    | Extracts the 'column1' data variable from the dataset and converts it into a Pandas DataFrame (`df`). |\n",
    "| `df.reset_index()`                                   | Resets the index of the 'df' DataFrame to create a default integer index.   |\n",
    "| `dset['column1'].to_dataframe().reset_index()` | All of it, together! |\n",
    "| `dset[['column1', 'column2']].to_dataframe().reset_index()` | Extracts column1 and column2, converts to dataframe, and resets index |\n",
    "| `df.catplot(data=df, x='categorical_column_1', y='continuous_column', kind='bar'/'count'/'box'), col='categorical_column_2` | Makes categorical plots of specified kind split into columns based on categories in categorical_column_2 |"
   ]
  },
  {
   "cell_type": "markdown",
   "id": "2a1060ce",
   "metadata": {},
   "source": [
    "**Exercises**"
   ]
  },
  {
   "cell_type": "markdown",
   "id": "ee98ee7f",
   "metadata": {},
   "source": [
    "Make a variable called `dset` by calling by Xarray's `xr.load_dataset()` function on the 'steinmetz_2016-12-14_Cori.nc' session file.  Confirm that the \"lfp\" data variable is there."
   ]
  },
  {
   "cell_type": "code",
   "execution_count": 3,
   "id": "a7521ea8",
   "metadata": {},
   "outputs": [],
   "source": []
  },
  {
   "cell_type": "markdown",
   "id": "6891128a",
   "metadata": {},
   "source": [
    "**Example** Make a catplot for feedback_type counting number of values in each category."
   ]
  },
  {
   "cell_type": "code",
   "execution_count": 4,
   "id": "2ccf0fda",
   "metadata": {},
   "outputs": [],
   "source": [
    "df = dset['feedback_type'].to_dataframe().reset_index()\n",
    "sns.catplot(data=df, x='feedback_type', kind='count')"
   ]
  },
  {
   "cell_type": "markdown",
   "id": "1a144573",
   "metadata": {},
   "source": [
    "Make a catplot for response_type counting number of values in each category."
   ]
  },
  {
   "cell_type": "code",
   "execution_count": 5,
   "id": "f2fd3090",
   "metadata": {},
   "outputs": [],
   "source": []
  },
  {
   "cell_type": "markdown",
   "id": "2ec8b3bd",
   "metadata": {},
   "source": [
    "Make a catplot for brain_area counting number of values in each category."
   ]
  },
  {
   "cell_type": "code",
   "execution_count": 6,
   "id": "da95457b",
   "metadata": {},
   "outputs": [],
   "source": []
  },
  {
   "cell_type": "markdown",
   "id": "9274a132",
   "metadata": {},
   "source": [
    "**Example** Make a bar plot visualizing how mean reaction time varies for different feedback types"
   ]
  },
  {
   "cell_type": "code",
   "execution_count": 7,
   "id": "ddde435f",
   "metadata": {},
   "outputs": [],
   "source": [
    "df = dset[['feedback_type', 'reaction_time']].to_dataframe().reset_index()\n",
    "sns.catplot(data=df, x='feedback_type', y='reaction_time', kind='bar')"
   ]
  },
  {
   "cell_type": "markdown",
   "id": "0b250e1a",
   "metadata": {},
   "source": [
    "Make a bar plot visualizing how mean response time varies for different feedback types"
   ]
  },
  {
   "cell_type": "code",
   "execution_count": 8,
   "id": "13c34270",
   "metadata": {},
   "outputs": [],
   "source": []
  },
  {
   "cell_type": "markdown",
   "id": "437a20e3",
   "metadata": {},
   "source": [
    "Make a bar plot visualizing how mean response time varies for different response types"
   ]
  },
  {
   "cell_type": "code",
   "execution_count": 9,
   "id": "550744a3",
   "metadata": {},
   "outputs": [],
   "source": []
  },
  {
   "cell_type": "markdown",
   "id": "441767e9",
   "metadata": {},
   "source": [
    "Make a box plot visualizing how mean response time varies for different response types\n",
    "\n",
    "Hint: Use `kind='box'`"
   ]
  },
  {
   "cell_type": "code",
   "execution_count": 10,
   "id": "ae08e2a4",
   "metadata": {},
   "outputs": [],
   "source": []
  },
  {
   "cell_type": "markdown",
   "id": "092112f6",
   "metadata": {},
   "source": [
    "Make a box plot visualizing how mean feedback time varies for different feedback types"
   ]
  },
  {
   "cell_type": "code",
   "execution_count": 11,
   "id": "62a67181",
   "metadata": {},
   "outputs": [],
   "source": []
  },
  {
   "cell_type": "markdown",
   "id": "a149bd47",
   "metadata": {},
   "source": [
    "**Example** Make a box plot visualizing how mean feedback time varies for different feedback types in different columns"
   ]
  },
  {
   "cell_type": "code",
   "execution_count": 12,
   "id": "1398803f",
   "metadata": {},
   "outputs": [],
   "source": [
    "df = dset[['feedback_type', 'feedback_time']].to_dataframe().reset_index()\n",
    "sns.catplot(data=df, x='feedback_type', y='feedback_time', kind='box', col='feedback_type')"
   ]
  },
  {
   "cell_type": "markdown",
   "id": "a7b863b0",
   "metadata": {},
   "source": [
    "Make a box plot visualizing how mean response time varies for different feedback types in different columns"
   ]
  },
  {
   "cell_type": "code",
   "execution_count": 13,
   "id": "037ff8c4",
   "metadata": {},
   "outputs": [],
   "source": []
  },
  {
   "cell_type": "markdown",
   "id": "92296d2e",
   "metadata": {},
   "source": [
    " Make a box plot visualizing how mean feedback time varies for different feedback types  separated into columns based on response types"
   ]
  },
  {
   "cell_type": "code",
   "execution_count": 14,
   "id": "d8f35540",
   "metadata": {},
   "outputs": [],
   "source": []
  },
  {
   "cell_type": "markdown",
   "id": "38e21cc8",
   "metadata": {},
   "source": [
    " Let's plot this another way. Make a box plot visualizing how mean feedback time varies for different response types separated into columns based on feedback types"
   ]
  },
  {
   "cell_type": "code",
   "execution_count": 15,
   "id": "d5bbb54d",
   "metadata": {},
   "outputs": [],
   "source": []
  },
  {
   "cell_type": "markdown",
   "id": "b6e1d3ad",
   "metadata": {},
   "source": [
    "Make a box plot visualizing how mean lfp varies for different brain areas separated into columns based on feedback types"
   ]
  },
  {
   "cell_type": "code",
   "execution_count": 16,
   "id": "a7d9ef00",
   "metadata": {},
   "outputs": [],
   "source": []
  },
  {
   "cell_type": "markdown",
   "id": "488aac86",
   "metadata": {},
   "source": [
    "Make a box plot visualizing how mean lfp varies for different brain areas separated into columns based on response types"
   ]
  },
  {
   "cell_type": "code",
   "execution_count": 17,
   "id": "519d4c81",
   "metadata": {},
   "outputs": [],
   "source": []
  },
  {
   "cell_type": "markdown",
   "id": "b2d937a6",
   "metadata": {},
   "source": [
    "---"
   ]
  },
  {
   "cell_type": "markdown",
   "id": "f234c49e",
   "metadata": {},
   "source": [
    "### Selecting Data based on its Values (\"Logical Indexing\" or \"Masking\") and Plotting it in MultiFaceted Line Plots with `sns.relplot()`\n",
    "\n",
    "##### Selecting Data based on its Values (\"Logical Indexing\" or \"Masking\") and Plotting it in MultiFaceted Line Plots with `sns.relplot()`\n",
    "\n",
    "| Code                       | Description                                                         |\n",
    "|----------------------------------------|---------------------------------------------------------------------|\n",
    "| `mask = df[\"col_1\"] == 'val_1'`     | Store which values of `col_1` are equal to `'val_'` |\n",
    "| `mask = mask1 & mask2` | Store which values are true for both `mask1` and `mask2` |\n",
    "| `mask = mask1 \\| mask2` | Store which values are true for at least one of `mask1` or `mask2` |\n",
    "| `df[mask]` | Get only the rows of `df` for which the values in `mask` are `True`.  |\n",
    "\n",
    "\n",
    "##### Plotting MultiFaceted Line Plots with Seaborn: `sns.relplot()`\n",
    "\n",
    "| Code       | Description                                                         |\n",
    "|-------------------|---------------------------------------------------------------------|\n",
    "| `sns.relplot()` | Creates a relational plot using Seaborn. Specifies the following parameters:\n",
    "| | `data`: DataFrame variable that the plot will be made from.\n",
    "| | `x=`: Column to use for the x-axis of the plot.\n",
    "| | `y=`: Column to use for the y-axis of the plot.\n",
    "| | `kind=`: \"line\" for a line plot, \"scatter\" for a scatter plot.\n",
    "| | `col=`: Column to use to split the figure into columns\n",
    "| | `col_wrap=`: The max number of columns per row \n",
    "| | `n_boot=`: Number of bootstrap resampling to compute confidence intervals."
   ]
  },
  {
   "cell_type": "markdown",
   "id": "ef0f2314",
   "metadata": {},
   "source": [
    "**Example** Make a line plot of `time` vs `lfp`, but only for trial numbers less than 50."
   ]
  },
  {
   "cell_type": "code",
   "execution_count": 19,
   "id": "99fcb649",
   "metadata": {},
   "outputs": [],
   "source": [
    "df = dset[['lfp']].to_dataframe().reset_index()\n",
    "mask = df['trial'] < 50\n",
    "sns.relplot(data=df[mask], x='time', y='lfp', kind='line', n_boot=20);"
   ]
  },
  {
   "cell_type": "markdown",
   "id": "65c362f9",
   "metadata": {},
   "source": [
    "Make a line plot of `time` vs `lfp`, but only for for trials where `contrast_left` was `100`"
   ]
  },
  {
   "cell_type": "code",
   "execution_count": 20,
   "id": "1fd4626b",
   "metadata": {},
   "outputs": [],
   "source": []
  },
  {
   "cell_type": "markdown",
   "id": "aca3424c",
   "metadata": {},
   "source": [
    "There seems to be a strong response right after t=0.5.  This is when the visual stimulus appeared in each trial.  Let's see if the response is still there when no stimulus was presented: \n",
    "\n",
    "Make a line plot of `time` vs `lfp`, but only for for trials where `contrast_left` was `0` and `contrast_right` was `0`"
   ]
  },
  {
   "cell_type": "code",
   "execution_count": 21,
   "id": "ca731ec6",
   "metadata": {},
   "outputs": [],
   "source": []
  },
  {
   "cell_type": "markdown",
   "id": "c5decc99",
   "metadata": {},
   "source": [
    "Make a line plot of `time` vs `lfp`, but only for for trials where either `contrast_left` was greator `50` **or** `contrast_right` was greater than `50`"
   ]
  },
  {
   "cell_type": "code",
   "execution_count": 22,
   "id": "5d7414b8",
   "metadata": {},
   "outputs": [],
   "source": []
  },
  {
   "cell_type": "markdown",
   "id": "40008efc",
   "metadata": {},
   "source": [
    "Make a line plot of `time` vs `lfp`, but only for `brain_area_lfp` measurements in the visual cortex area `'VISp'`."
   ]
  },
  {
   "cell_type": "code",
   "execution_count": 23,
   "id": "2d18ff7c",
   "metadata": {},
   "outputs": [],
   "source": []
  },
  {
   "cell_type": "markdown",
   "id": "fd1cfad3",
   "metadata": {},
   "source": [
    "Does the hippocampus have such a distinct response?  Make a line plot of `time` vs `lfp`, but only for `brain_area_lfp` measurements in either `'DG'` or `'CA3'`."
   ]
  },
  {
   "cell_type": "code",
   "execution_count": 24,
   "id": "7eda0be9",
   "metadata": {},
   "outputs": [],
   "source": []
  },
  {
   "cell_type": "markdown",
   "id": "6f14b175",
   "metadata": {},
   "source": [
    "How does the mouse's response affect the lfp in the visual cortex?  Make a line plot of `time` vs `lfp`, but only for `brain_area_lfp` measurements in the visual cortex area `'VISp'`, and use `hue` to compare the lfp between different `response_type` values."
   ]
  },
  {
   "cell_type": "code",
   "execution_count": 25,
   "id": "87e2a50a",
   "metadata": {},
   "outputs": [],
   "source": []
  },
  {
   "cell_type": "markdown",
   "id": "42875987",
   "metadata": {},
   "source": [
    "There are so many different brain areas; let's plot them all at once in different subplots.  Make a line plot of `time` vs `lfp`, where `col` is the brain area.  (if there are too many columns, you can set `col_wrap=3` to make new rows automatically)."
   ]
  },
  {
   "cell_type": "code",
   "execution_count": 26,
   "id": "32b6281e",
   "metadata": {},
   "outputs": [],
   "source": []
  },
  {
   "cell_type": "markdown",
   "id": "ce4c68b1",
   "metadata": {},
   "source": [
    "For each brain area, compare the lfps to different response types.  Which brain areas seem most related to the subject's behavior?"
   ]
  },
  {
   "cell_type": "code",
   "execution_count": 27,
   "id": "1ad98906",
   "metadata": {},
   "outputs": [],
   "source": []
  },
  {
   "cell_type": "markdown",
   "id": "442429e1",
   "metadata": {},
   "source": [
    "---"
   ]
  },
  {
   "cell_type": "markdown",
   "id": "b16a140c",
   "metadata": {},
   "source": [
    "## Visualizing Average LFP Data with Heatmap"
   ]
  },
  {
   "cell_type": "markdown",
   "id": "3b5f2692",
   "metadata": {},
   "source": [
    "Let's try to visualize same information for all brain area in a different format. Sometimes, it might be enough to only see variations in terms of color change rather than number. This case, heatmap could be very informative to identify patterns in the time series of mean LFP signal across all trials.\n",
    "\n",
    "We will make use of group-by and pivot_table method of Pandas dataframe to aggregate LFP and Seaborn heatmap method to visualize"
   ]
  },
  {
   "cell_type": "markdown",
   "id": "03c5f7cf",
   "metadata": {},
   "source": [
    "| Method | Description |\n",
    "| --- | --- |\n",
    "| `mask = df[\"col_1\"] == 'val_1'` | Store which values of `col_1` are equal to `'val_1'`. |\n",
    "| `mask = mask1 & mask2` | Store which values are true for both `mask1` and `mask2`. |\n",
    "| `mask = mask1 \\| mask2` | Store which values are true for at least one of `mask1` or `mask2`. |\n",
    "| `df[mask]` | Get only the rows of `df` for which the values in `mask` are `True`. |\n",
    "| `df.groupby(['column1','column2'])['column3'].mean().unstack()` | Aggregate `column3` with respect to `column1` and `column2` and unstack the table. |\n",
    "| `df.pivot_table(index='column1', columns='column2', values='column3', aggfunc='mean')` | Does the same as above. |\n",
    "|`sns.heatmap(grouped_df)`| Create heatmap of grouped_df |"
   ]
  },
  {
   "cell_type": "markdown",
   "id": "faeffecf",
   "metadata": {},
   "source": [
    "**Example** Make a heatmap visualization of the mean Local Field Potential (LFP) data grouped by 'brain_area_lfp' and 'time'."
   ]
  },
  {
   "cell_type": "code",
   "execution_count": 28,
   "id": "3b9f34fb",
   "metadata": {},
   "outputs": [],
   "source": [
    "df = dset['lfp'].to_dataframe().reset_index()\n",
    "group = df.groupby(['brain_area_lfp', 'time'])['lfp'].mean().unstack()\n",
    "sns.heatmap(group)"
   ]
  },
  {
   "cell_type": "markdown",
   "id": "d9a72b94",
   "metadata": {},
   "source": [
    "Make a heatmap visualization of the median Local Field Potential (LFP) data grouped by 'brain_area_lfp' and 'time'"
   ]
  },
  {
   "cell_type": "code",
   "execution_count": 29,
   "id": "534114b4",
   "metadata": {},
   "outputs": [],
   "source": []
  },
  {
   "cell_type": "markdown",
   "id": "5b5859ea",
   "metadata": {},
   "source": [
    "Make a heatmap visualization of the maximum Local Field Potential (LFP) data grouped by 'brain_area_lfp' and 'time'"
   ]
  },
  {
   "cell_type": "code",
   "execution_count": 30,
   "id": "87c08420",
   "metadata": {},
   "outputs": [],
   "source": []
  },
  {
   "cell_type": "markdown",
   "id": "b4fc4b9c",
   "metadata": {},
   "source": [
    "Make a heatmap visualization of the minimum Local Field Potential (LFP) data grouped by 'brain_area_lfp' and 'time'"
   ]
  },
  {
   "cell_type": "code",
   "execution_count": 31,
   "id": "e2f85e44",
   "metadata": {},
   "outputs": [],
   "source": []
  },
  {
   "cell_type": "markdown",
   "id": "569949f1",
   "metadata": {},
   "source": [
    "**Example** Make a heatmap visualization of the mean Local Field Potential (LFP) data grouped by 'brain_area_lfp' and 'time' but only for feedback_type == 1"
   ]
  },
  {
   "cell_type": "code",
   "execution_count": 32,
   "id": "315cbb12",
   "metadata": {},
   "outputs": [],
   "source": [
    "df = dset[['lfp', 'feedback_type']].to_dataframe().reset_index()\n",
    "mask = df['feedback_type'] == 1\n",
    "group = df[mask].groupby(['brain_area_lfp', 'time'])['lfp'].mean().unstack()\n",
    "sns.heatmap(group)"
   ]
  },
  {
   "cell_type": "markdown",
   "id": "336ec646",
   "metadata": {},
   "source": [
    "Make a heatmap visualization of the mean Local Field Potential (LFP) data grouped by 'brain_area_lfp' and 'time' but only for feedback_type == -1"
   ]
  },
  {
   "cell_type": "code",
   "execution_count": 33,
   "id": "7f8ca97e",
   "metadata": {},
   "outputs": [],
   "source": []
  },
  {
   "cell_type": "markdown",
   "id": "5154a85f",
   "metadata": {},
   "source": [
    "We can get the same group with a Pandas method called pivot_table "
   ]
  },
  {
   "cell_type": "markdown",
   "id": "078e8346",
   "metadata": {},
   "source": [
    "**Example** Make a heatmap visualization of the mean Local Field Potential (LFP) data grouped by 'brain_area_lfp' and 'time' using pivot_table"
   ]
  },
  {
   "cell_type": "code",
   "execution_count": 34,
   "id": "d8ed842d",
   "metadata": {},
   "outputs": [],
   "source": [
    "df = dset['lfp'].to_dataframe().reset_index()\n",
    "group = df.pivot_table(index='brain_area_lfp', columns='time', values='lfp', aggfunc='mean')\n",
    "sns.heatmap(group)"
   ]
  },
  {
   "cell_type": "markdown",
   "id": "dd5dc402",
   "metadata": {},
   "source": [
    "Make a heatmap visualization of the mean Local Field Potential (LFP) data grouped by 'brain_area_lfp' and 'time' but only for feedback_type == 1 using pivot table"
   ]
  },
  {
   "cell_type": "code",
   "execution_count": 35,
   "id": "07de015a",
   "metadata": {},
   "outputs": [],
   "source": []
  },
  {
   "cell_type": "markdown",
   "id": "2daf8b79",
   "metadata": {},
   "source": [
    "Make a heatmap visualization of the mean Local Field Potential (LFP) data grouped by 'brain_area_lfp' and 'time' but only for response_type == 1  using pivot table"
   ]
  },
  {
   "cell_type": "code",
   "execution_count": 36,
   "id": "f839a977",
   "metadata": {},
   "outputs": [],
   "source": []
  },
  {
   "cell_type": "markdown",
   "id": "8fadefad",
   "metadata": {},
   "source": [
    "Make a heatmap visualization of the mean Local Field Potential (LFP) data grouped by 'brain_area_lfp' and 'time' but only for feedback_type == -1 using pivot_table method"
   ]
  },
  {
   "cell_type": "code",
   "execution_count": 37,
   "id": "571d1b8f",
   "metadata": {},
   "outputs": [],
   "source": []
  },
  {
   "cell_type": "markdown",
   "id": "24796179",
   "metadata": {},
   "source": [
    "Make a heatmap visualization of the mean Local Field Potential (LFP) data grouped by 'brain_area_lfp' and 'time' but only for feedback_type == 1 and response_type == 1 using pivot_table method"
   ]
  },
  {
   "cell_type": "code",
   "execution_count": 38,
   "id": "11c9990f",
   "metadata": {},
   "outputs": [],
   "source": []
  },
  {
   "cell_type": "markdown",
   "id": "80f5cf72",
   "metadata": {},
   "source": [
    "Make a heatmap visualization of the mean Local Field Potential (LFP) data grouped by 'brain_area_lfp' and 'time' but only for feedback_type == 1 and response_type == -1 using pivot_table method"
   ]
  },
  {
   "cell_type": "code",
   "execution_count": 39,
   "id": "c6b12443",
   "metadata": {},
   "outputs": [],
   "source": []
  },
  {
   "cell_type": "markdown",
   "id": "532434e8",
   "metadata": {},
   "source": [
    "Make a heatmap visualization of the mean Local Field Potential (LFP) data grouped by 'brain_area_lfp' and 'time' but only for feedback_type == -1 and response_type == 0 using pivot_table method"
   ]
  },
  {
   "cell_type": "code",
   "execution_count": 40,
   "id": "f22acf63",
   "metadata": {},
   "outputs": [],
   "source": []
  },
  {
   "cell_type": "markdown",
   "id": "4cadb6ec",
   "metadata": {},
   "source": [
    "Make a heatmap visualization of the median Local Field Potential (LFP) data grouped by 'brain_area_lfp' and 'time' but only for either VISp or DG brain areas using pivot_table method"
   ]
  },
  {
   "cell_type": "code",
   "execution_count": 41,
   "id": "ee63ed3f",
   "metadata": {},
   "outputs": [],
   "source": []
  }
 ],
 "metadata": {
  "kernelspec": {
   "display_name": "Python 3",
   "language": "python",
   "name": "python3"
  },
  "language_info": {
   "codemirror_mode": {
    "name": "ipython",
    "version": 3
   },
   "file_extension": ".py",
   "mimetype": "text/x-python",
   "name": "python",
   "nbconvert_exporter": "python",
   "pygments_lexer": "ipython3",
   "version": "3.11.5"
  }
 },
 "nbformat": 4,
 "nbformat_minor": 5
}
